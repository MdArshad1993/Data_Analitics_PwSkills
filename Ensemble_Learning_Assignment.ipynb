{
  "nbformat": 4,
  "nbformat_minor": 0,
  "metadata": {
    "colab": {
      "provenance": []
    },
    "kernelspec": {
      "name": "python3",
      "display_name": "Python 3"
    },
    "language_info": {
      "name": "python"
    }
  },
  "cells": [
    {
      "cell_type": "code",
      "execution_count": null,
      "metadata": {
        "id": "OYgVqH6X2G9O"
      },
      "outputs": [],
      "source": [
        "#Theoretical\n",
        "\n",
        "\"\"\"\"1. Can we use Bagging for regression problems?\n",
        "Yes, Bagging (Bootstrap Aggregating) can be used for regression problems. In this case, multiple regression models are trained on different bootstrap samples of the data, and their predictions are averaged to produce the final output. This helps reduce variance and improves generalization.\n",
        "\n",
        "2. What is the difference between multiple model training and single model training?\n",
        "Single model training uses one model trained on the entire dataset.\n",
        "\n",
        "Multiple model training (used in ensemble methods) involves training several models (e.g., on bootstrapped subsets) and combining their predictions, often resulting in better performance and robustness.\n",
        "\n",
        "3. Explain the concept of feature randomness in Random Forest.\n",
        "In a Random Forest, each tree is built using a random subset of features at each split (not all features). This feature randomness helps in decorrelating the trees, making the ensemble more diverse and reducing overfitting.\n",
        "\n",
        "4. What is OOB (Out-of-Bag) Score?\n",
        "Out-of-Bag score is a validation method in bagging where each base model is evaluated on the data not included in its training sample. It provides an unbiased estimate of model performance without needing a separate validation set.\n",
        "\n",
        "5. How can you measure the importance of features in a Random Forest model?\n",
        "Feature importance can be measured by:\n",
        "\n",
        "Gini importance: How much each feature decreases impurity across all trees.\n",
        "\n",
        "Permutation importance: Randomly shuffling a feature's values and observing the impact on performance.\n",
        "\n",
        "6. Explain the working principle of a Bagging Classifier.\n",
        "A Bagging Classifier:\n",
        "\n",
        "Trains multiple models (e.g., decision trees) on different bootstrapped samples.\n",
        "\n",
        "Aggregates predictions using majority voting (for classification).\n",
        "\n",
        "Reduces variance and improves model stability.\n",
        "\n",
        "7. How do you evaluate a Bagging Classifier’s performance?\n",
        "You can evaluate it using:\n",
        "\n",
        "Accuracy, Precision, Recall, F1-score on a test set.\n",
        "\n",
        "Confusion matrix for classification performance.\n",
        "\n",
        "OOB score as an internal validation metric.\n",
        "\n",
        "8. How does a Bagging Regressor work?\n",
        "A Bagging Regressor trains several regressors on bootstrapped data. Final predictions are made by averaging the outputs of these models, reducing overfitting and improving accuracy.\n",
        "\n",
        "9. What is the main advantage of ensemble techniques?\n",
        "The main advantage is improved accuracy and robustness by combining multiple models, often outperforming individual models in both bias and variance trade-offs.\n",
        "\n",
        "10. What is the main challenge of ensemble methods?\n",
        "Main challenges include:\n",
        "\n",
        "Increased computational cost.\n",
        "\n",
        "Model interpretability decreases with complexity.\n",
        "\n",
        "Risk of overfitting if not properly validated.\n",
        "\n",
        "11. Explain the key idea behind ensemble techniques.\n",
        "The key idea is to combine multiple weak learners to build a stronger overall model, leveraging the wisdom of crowds effect to reduce errors from individual models.\n",
        "\n",
        "12. What is a Random Forest Classifier?\n",
        "It’s an ensemble of decision trees trained using bagging with feature randomness. Each tree votes, and the class with the most votes is the output. It’s robust and handles overfitting better than a single tree.\n",
        "\n",
        "13. What are the main types of ensemble techniques?\n",
        "Bagging (e.g., Random Forest)\n",
        "\n",
        "Boosting (e.g., AdaBoost, XGBoost)\n",
        "\n",
        "Stacking (meta-model learns how to best combine base models)\n",
        "\n",
        "14. What is ensemble learning in machine learning?\n",
        "Ensemble learning combines multiple models (learners) to solve a problem more effectively than a single model. It enhances performance through diversity and collaboration.\n",
        "\n",
        "15. When should we avoid using ensemble methods?\n",
        "Avoid when:\n",
        "\n",
        "Computational resources are limited.\n",
        "\n",
        "The base model already performs well.\n",
        "\n",
        "Model interpretability is crucial.\n",
        "\n",
        "Real-time inference speed is critical.\n",
        "\n",
        "16. How does Bagging help in reducing overfitting?\n",
        "Bagging reduces overfitting by averaging multiple models, which cancels out the noise and variance from individual models trained on different data subsets.\n",
        "\n",
        "17. Why is Random Forest better than a single Decision Tree?\n",
        "It reduces overfitting through averaging.\n",
        "\n",
        "Improves accuracy and generalization.\n",
        "\n",
        "Is more robust to noise and outliers.\n",
        "\n",
        "18. What is the role of bootstrap sampling in Bagging?\n",
        "Bootstrap sampling generates multiple training datasets by sampling with replacement. It introduces diversity among the models and helps generalize better.\n",
        "\n",
        "19. What are some real-world applications of ensemble techniques?\n",
        "Fraud detection (banking)\n",
        "\n",
        "Spam filtering\n",
        "\n",
        "Medical diagnosis\n",
        "\n",
        "Customer churn prediction\n",
        "\n",
        "Recommender systems\n",
        "\n",
        "Stock market prediction\n",
        "\n",
        "20. What is the difference between Bagging and Boosting?\n",
        "Feature\tBagging\tBoosting\n",
        "Training\tIndependent models on bootstrapped samples\tSequential models focusing on previous errors\n",
        "Goal\tReduce variance\tReduce bias\n",
        "Model combination\tVoting/Averaging\tWeighted combination\n",
        "Overfitting risk\tLower\tHigher (but can be tuned)\n",
        "Example\tRandom Forest\tAdaBoost, Gradient Boosting\n",
        "\n",
        "\"\"\"\"\""
      ]
    },
    {
      "cell_type": "code",
      "source": [
        "#Practical"
      ],
      "metadata": {
        "id": "SoRlS6aN-EuN"
      },
      "execution_count": null,
      "outputs": []
    },
    {
      "cell_type": "code",
      "source": [
        "import numpy as np\n",
        "import matplotlib.pyplot as plt\n",
        "import seaborn as sns\n",
        "from sklearn.datasets import make_classification, make_regression, load_breast_cancer\n",
        "from sklearn.ensemble import BaggingClassifier, BaggingRegressor, RandomForestClassifier, RandomForestRegressor, StackingClassifier\n",
        "from sklearn.tree import DecisionTreeClassifier, DecisionTreeRegressor\n",
        "from sklearn.svm import SVC\n",
        "from sklearn.linear_model import LogisticRegression\n",
        "from sklearn.neighbors import KNeighborsRegressor\n",
        "from sklearn.model_selection import train_test_split, cross_val_score, GridSearchCV\n",
        "from sklearn.metrics import (accuracy_score, mean_squared_error, roc_auc_score, classification_report,\n",
        "                             precision_recall_fscore_support, confusion_matrix, ConfusionMatrixDisplay,\n",
        "                             precision_recall_curve, auc)\n"
      ],
      "metadata": {
        "id": "-bedwsmJ-5e-"
      },
      "execution_count": 12,
      "outputs": []
    },
    {
      "cell_type": "code",
      "source": [
        "# Create sample classification and regression datasets\n",
        "X_clf, y_clf = make_classification(n_samples=1000, n_features=20, random_state=42)\n",
        "X_reg, y_reg = make_regression(n_samples=1000, n_features=10, noise=0.1, random_state=42)\n",
        "X_train_clf, X_test_clf, y_train_clf, y_test_clf = train_test_split(X_clf, y_clf, test_size=0.2, random_state=42)\n",
        "X_train_reg, X_test_reg, y_train_reg, y_test_reg = train_test_split(X_reg, y_reg, test_size=0.2, random_state=42)\n"
      ],
      "metadata": {
        "id": "XHe2Db9EAMfO"
      },
      "execution_count": 13,
      "outputs": []
    },
    {
      "cell_type": "code",
      "source": [
        "# 1. Bagging Classifier with Decision Trees\n",
        "bagging_clf = BaggingClassifier(DecisionTreeClassifier(), n_estimators=10, random_state=42)\n",
        "bagging_clf.fit(X_train_clf, y_train_clf)\n",
        "print(\"1. Bagging Classifier Accuracy:\", accuracy_score(y_test_clf, bagging_clf.predict(X_test_clf)))\n"
      ],
      "metadata": {
        "colab": {
          "base_uri": "https://localhost:8080/"
        },
        "id": "xPsMcdzYARiN",
        "outputId": "f103c9a4-6345-4560-e4a3-315f46621bda"
      },
      "execution_count": 14,
      "outputs": [
        {
          "output_type": "stream",
          "name": "stdout",
          "text": [
            "1. Bagging Classifier Accuracy: 0.885\n"
          ]
        }
      ]
    },
    {
      "cell_type": "code",
      "source": [
        "\n",
        "# 2. Bagging Regressor with Decision Trees\n",
        "bagging_reg = BaggingRegressor(DecisionTreeRegressor(), n_estimators=10, random_state=42)\n",
        "bagging_reg.fit(X_train_reg, y_train_reg)\n",
        "print(\"2. Bagging Regressor MSE:\", mean_squared_error(y_test_reg, bagging_reg.predict(X_test_reg)))\n"
      ],
      "metadata": {
        "colab": {
          "base_uri": "https://localhost:8080/"
        },
        "id": "klJ9MQjhDxvY",
        "outputId": "cf913ca1-b161-4b38-def7-d2362ca30a71"
      },
      "execution_count": 15,
      "outputs": [
        {
          "output_type": "stream",
          "name": "stdout",
          "text": [
            "2. Bagging Regressor MSE: 3222.395831454\n"
          ]
        }
      ]
    },
    {
      "cell_type": "code",
      "source": [
        "\n",
        "# 3. Random Forest on Breast Cancer Data\n",
        "data = load_breast_cancer()\n",
        "X_bc, y_bc = data.data, data.target\n",
        "rf_bc = RandomForestClassifier(random_state=42)\n",
        "rf_bc.fit(X_bc, y_bc)\n",
        "print(\"3. Feature Importances:\", rf_bc.feature_importances_)"
      ],
      "metadata": {
        "colab": {
          "base_uri": "https://localhost:8080/"
        },
        "id": "4we57w1UD1Xt",
        "outputId": "f39a2892-cf33-4f08-92f1-690f506f9fce"
      },
      "execution_count": 16,
      "outputs": [
        {
          "output_type": "stream",
          "name": "stdout",
          "text": [
            "3. Feature Importances: [0.03484323 0.01522515 0.06799034 0.06046164 0.00795845 0.01159704\n",
            " 0.06691736 0.10704566 0.00342279 0.00261508 0.0142637  0.00374427\n",
            " 0.01008506 0.02955283 0.00472157 0.00561183 0.00581969 0.00375975\n",
            " 0.00354597 0.00594233 0.08284828 0.01748526 0.0808497  0.13935694\n",
            " 0.01223202 0.01986386 0.03733871 0.13222509 0.00817908 0.00449731]\n"
          ]
        }
      ]
    },
    {
      "cell_type": "code",
      "source": [
        "\n",
        "# 4. Compare RF Regressor vs Decision Tree Regressor\n",
        "rf_reg = RandomForestRegressor(random_state=42)\n",
        "dt_reg = DecisionTreeRegressor(random_state=42)\n",
        "rf_reg.fit(X_train_reg, y_train_reg)\n",
        "dt_reg.fit(X_train_reg, y_train_reg)\n",
        "print(\"4. RF MSE:\", mean_squared_error(y_test_reg, rf_reg.predict(X_test_reg)))\n",
        "print(\"   DT MSE:\", mean_squared_error(y_test_reg, dt_reg.predict(X_test_reg)))"
      ],
      "metadata": {
        "colab": {
          "base_uri": "https://localhost:8080/"
        },
        "id": "z6m9eobID9il",
        "outputId": "3d867095-5789-4f0a-9991-e283207c28a3"
      },
      "execution_count": 17,
      "outputs": [
        {
          "output_type": "stream",
          "name": "stdout",
          "text": [
            "4. RF MSE: 2621.793155098221\n",
            "   DT MSE: 6350.427786748267\n"
          ]
        }
      ]
    },
    {
      "cell_type": "code",
      "source": [
        "\n",
        "# 5. OOB Score\n",
        "rf_oob = RandomForestClassifier(oob_score=True, n_estimators=100, random_state=42)\n",
        "rf_oob.fit(X_train_clf, y_train_clf)\n",
        "print(\"5. OOB Score:\", rf_oob.oob_score_)\n"
      ],
      "metadata": {
        "colab": {
          "base_uri": "https://localhost:8080/"
        },
        "id": "V6HNgRQIECvU",
        "outputId": "d6780a34-0cab-4b2d-aa49-86e09c0a3518"
      },
      "execution_count": 18,
      "outputs": [
        {
          "output_type": "stream",
          "name": "stdout",
          "text": [
            "5. OOB Score: 0.89\n"
          ]
        }
      ]
    },
    {
      "cell_type": "code",
      "source": [
        "\n",
        "# 6. Bagging with SVM\n",
        "bagging_svm = BaggingClassifier(SVC(probability=True), n_estimators=10, random_state=42)\n",
        "bagging_svm.fit(X_train_clf, y_train_clf)\n",
        "print(\"6. Bagging SVM Accuracy:\", accuracy_score(y_test_clf, bagging_svm.predict(X_test_clf)))\n"
      ],
      "metadata": {
        "colab": {
          "base_uri": "https://localhost:8080/"
        },
        "id": "eYbQDlZvEHRi",
        "outputId": "386e1a87-1152-44d1-9fe3-2ae7670c5625"
      },
      "execution_count": 19,
      "outputs": [
        {
          "output_type": "stream",
          "name": "stdout",
          "text": [
            "6. Bagging SVM Accuracy: 0.86\n"
          ]
        }
      ]
    },
    {
      "cell_type": "code",
      "source": [
        "\n",
        "# 7. RF Classifier with different trees\n",
        "for n in [10, 50, 100]:\n",
        "    rf = RandomForestClassifier(n_estimators=n, random_state=42)\n",
        "    rf.fit(X_train_clf, y_train_clf)\n",
        "    print(f\"7. RF Accuracy with {n} trees:\", accuracy_score(y_test_clf, rf.predict(X_test_clf)))\n"
      ],
      "metadata": {
        "colab": {
          "base_uri": "https://localhost:8080/"
        },
        "id": "bDiA9VzmEMAc",
        "outputId": "b2c3c46c-7bf7-4fdf-aacd-64f946f0322d"
      },
      "execution_count": 20,
      "outputs": [
        {
          "output_type": "stream",
          "name": "stdout",
          "text": [
            "7. RF Accuracy with 10 trees: 0.855\n",
            "7. RF Accuracy with 50 trees: 0.88\n",
            "7. RF Accuracy with 100 trees: 0.9\n"
          ]
        }
      ]
    },
    {
      "cell_type": "code",
      "source": [
        "\n",
        "# 8. Bagging with Logistic Regression and AUC\n",
        "bagging_lr = BaggingClassifier(LogisticRegression(), n_estimators=10, random_state=42)\n",
        "bagging_lr.fit(X_train_clf, y_train_clf)\n",
        "y_proba = bagging_lr.predict_proba(X_test_clf)[:, 1]\n",
        "print(\"8. AUC Score (LogReg):\", roc_auc_score(y_test_clf, y_proba))\n"
      ],
      "metadata": {
        "colab": {
          "base_uri": "https://localhost:8080/"
        },
        "id": "rhXsvduXEPiu",
        "outputId": "fb80e9f4-702a-4f8b-b3e5-c07b1da5e1b6"
      },
      "execution_count": 21,
      "outputs": [
        {
          "output_type": "stream",
          "name": "stdout",
          "text": [
            "8. AUC Score (LogReg): 0.9225203497135966\n"
          ]
        }
      ]
    },
    {
      "cell_type": "code",
      "source": [
        "\n",
        "# 9. RF Regressor feature importances\n",
        "rf_reg.fit(X_train_reg, y_train_reg)\n",
        "print(\"9. RF Feature Importances (Regression):\", rf_reg.feature_importances_)\n"
      ],
      "metadata": {
        "colab": {
          "base_uri": "https://localhost:8080/"
        },
        "id": "00zuWXsKETd0",
        "outputId": "53ab5547-37e5-4151-e608-369ce61154dd"
      },
      "execution_count": 22,
      "outputs": [
        {
          "output_type": "stream",
          "name": "stdout",
          "text": [
            "9. RF Feature Importances (Regression): [0.0374464  0.0355673  0.03997553 0.33425954 0.01386042 0.01484419\n",
            " 0.28806366 0.0147222  0.0135737  0.20768707]\n"
          ]
        }
      ]
    },
    {
      "cell_type": "code",
      "source": [
        "\n",
        "# 10. Combine Bagging + Random Forest\n",
        "combined = [bagging_clf, rf_bc]\n",
        "for model in combined:\n",
        "    model.fit(X_train_clf, y_train_clf)\n",
        "    print(f\"10. {type(model).__name__} Accuracy:\", accuracy_score(y_test_clf, model.predict(X_test_clf)))\n"
      ],
      "metadata": {
        "colab": {
          "base_uri": "https://localhost:8080/"
        },
        "id": "nLjGx6IQEW5_",
        "outputId": "e1045874-cb09-4e72-b54c-7c68fd003913"
      },
      "execution_count": 23,
      "outputs": [
        {
          "output_type": "stream",
          "name": "stdout",
          "text": [
            "10. BaggingClassifier Accuracy: 0.885\n",
            "10. RandomForestClassifier Accuracy: 0.9\n"
          ]
        }
      ]
    },
    {
      "cell_type": "code",
      "source": [
        "\n",
        "# 11. Hyperparameter Tuning RF Classifier\n",
        "param_grid = {'n_estimators': [10, 50], 'max_depth': [None, 10]}\n",
        "grid_rf = GridSearchCV(RandomForestClassifier(random_state=42), param_grid, cv=3)\n",
        "grid_rf.fit(X_train_clf, y_train_clf)\n",
        "print(\"11. Best Params:\", grid_rf.best_params_)\n",
        "print(\"    Best Accuracy:\", accuracy_score(y_test_clf, grid_rf.predict(X_test_clf)))\n"
      ],
      "metadata": {
        "colab": {
          "base_uri": "https://localhost:8080/"
        },
        "id": "_P1uligrEZqF",
        "outputId": "7d7863b2-2b34-49a8-906f-8773ed1b7c52"
      },
      "execution_count": 24,
      "outputs": [
        {
          "output_type": "stream",
          "name": "stdout",
          "text": [
            "11. Best Params: {'max_depth': 10, 'n_estimators': 50}\n",
            "    Best Accuracy: 0.885\n"
          ]
        }
      ]
    },
    {
      "cell_type": "code",
      "source": [
        "\n",
        "# 12. Bagging Regressor with different estimators\n",
        "for n in [5, 10, 20]:\n",
        "    br = BaggingRegressor(n_estimators=n, random_state=42)\n",
        "    br.fit(X_train_reg, y_train_reg)\n",
        "    print(f\"12. BaggingRegressor (n={n}) MSE:\", mean_squared_error(y_test_reg, br.predict(X_test_reg)))\n"
      ],
      "metadata": {
        "colab": {
          "base_uri": "https://localhost:8080/"
        },
        "id": "vgfomhuJEdPk",
        "outputId": "ce8ad6e5-6dde-4278-f4ff-d2bb15339ef8"
      },
      "execution_count": 25,
      "outputs": [
        {
          "output_type": "stream",
          "name": "stdout",
          "text": [
            "12. BaggingRegressor (n=5) MSE: 4214.4052636753695\n",
            "12. BaggingRegressor (n=10) MSE: 3222.395831454\n",
            "12. BaggingRegressor (n=20) MSE: 2964.3494317948857\n"
          ]
        }
      ]
    },
    {
      "cell_type": "code",
      "source": [
        "\n",
        "# 13. RF Classifier misclassified samples\n",
        "rf = RandomForestClassifier(random_state=42)\n",
        "rf.fit(X_train_clf, y_train_clf)\n",
        "y_pred = rf.predict(X_test_clf)\n",
        "misclassified = X_test_clf[y_test_clf != y_pred]\n",
        "print(\"13. Number of misclassified samples:\", len(misclassified))\n"
      ],
      "metadata": {
        "colab": {
          "base_uri": "https://localhost:8080/"
        },
        "id": "_1Zuep7sEhUg",
        "outputId": "abf4daa8-27d7-49bb-b9ad-528d896cfbc1"
      },
      "execution_count": 26,
      "outputs": [
        {
          "output_type": "stream",
          "name": "stdout",
          "text": [
            "13. Number of misclassified samples: 20\n"
          ]
        }
      ]
    },
    {
      "cell_type": "code",
      "source": [
        "\n",
        "# 14. Compare Bagging and Decision Tree\n",
        "dt = DecisionTreeClassifier()\n",
        "dt.fit(X_train_clf, y_train_clf)\n",
        "print(\"14. Bagging Accuracy:\", accuracy_score(y_test_clf, bagging_clf.predict(X_test_clf)))\n",
        "print(\"    Decision Tree Accuracy:\", accuracy_score(y_test_clf, dt.predict(X_test_clf)))\n"
      ],
      "metadata": {
        "colab": {
          "base_uri": "https://localhost:8080/"
        },
        "id": "my3PNFdYEkG8",
        "outputId": "d813d316-3ccb-4742-a52b-3412e9bf54fc"
      },
      "execution_count": 27,
      "outputs": [
        {
          "output_type": "stream",
          "name": "stdout",
          "text": [
            "14. Bagging Accuracy: 0.885\n",
            "    Decision Tree Accuracy: 0.865\n"
          ]
        }
      ]
    },
    {
      "cell_type": "code",
      "source": [
        "\n",
        "# 15. Confusion Matrix\n",
        "ConfusionMatrixDisplay.from_estimator(rf, X_test_clf, y_test_clf)\n",
        "plt.title(\"15. RF Confusion Matrix\")\n",
        "plt.show()\n"
      ],
      "metadata": {
        "colab": {
          "base_uri": "https://localhost:8080/",
          "height": 472
        },
        "id": "uooK2L-REmq3",
        "outputId": "53f04ed6-68b9-4d6f-af85-f3a8a57c0c34"
      },
      "execution_count": 28,
      "outputs": [
        {
          "output_type": "display_data",
          "data": {
            "text/plain": [
              "<Figure size 640x480 with 2 Axes>"
            ],
            "image/png": "[encoded data removed]"
          },
          "metadata": {}
        }
      ]
    },
    {
      "cell_type": "code",
      "source": [
        "\n",
        "# 16. Stacking Classifier\n",
        "estimators = [('dt', DecisionTreeClassifier()), ('svc', SVC(probability=True)), ('lr', LogisticRegression())]\n",
        "stack = StackingClassifier(estimators=estimators, final_estimator=LogisticRegression())\n",
        "stack.fit(X_train_clf, y_train_clf)\n",
        "print(\"16. Stacking Accuracy:\", accuracy_score(y_test_clf, stack.predict(X_test_clf)))\n"
      ],
      "metadata": {
        "colab": {
          "base_uri": "https://localhost:8080/"
        },
        "id": "GDViJwPhEp58",
        "outputId": "0faf9def-335d-4617-85d5-7e4e283a0dd0"
      },
      "execution_count": 29,
      "outputs": [
        {
          "output_type": "stream",
          "name": "stdout",
          "text": [
            "16. Stacking Accuracy: 0.875\n"
          ]
        }
      ]
    },
    {
      "cell_type": "code",
      "source": [
        "\n",
        "# 17. Top 5 Feature Importances\n",
        "importances = rf.feature_importances_\n",
        "top_indices = np.argsort(importances)[-5:]\n",
        "print(\"17. Top 5 Important Features:\", top_indices)\n"
      ],
      "metadata": {
        "colab": {
          "base_uri": "https://localhost:8080/"
        },
        "id": "oUcbi2QIEsik",
        "outputId": "21ed466b-900f-4776-a21a-f6639c4055b3"
      },
      "execution_count": 30,
      "outputs": [
        {
          "output_type": "stream",
          "name": "stdout",
          "text": [
            "17. Top 5 Important Features: [11 14  1 18  5]\n"
          ]
        }
      ]
    },
    {
      "cell_type": "code",
      "source": [
        "\n",
        "# 18. Precision, Recall, F1\n",
        "y_pred = bagging_clf.predict(X_test_clf)\n",
        "p, r, f, _ = precision_recall_fscore_support(y_test_clf, y_pred, average='binary')\n",
        "print(f\"18. Precision: {p}, Recall: {r}, F1: {f}\")\n"
      ],
      "metadata": {
        "colab": {
          "base_uri": "https://localhost:8080/"
        },
        "id": "LTGW9R8qEu1x",
        "outputId": "9c6e7ea8-04fb-4b44-ec20-a707708a630d"
      },
      "execution_count": 31,
      "outputs": [
        {
          "output_type": "stream",
          "name": "stdout",
          "text": [
            "18. Precision: 0.9565217391304348, Recall: 0.822429906542056, F1: 0.8844221105527639\n"
          ]
        }
      ]
    },
    {
      "cell_type": "code",
      "source": [
        "\n",
        "# 19. RF max_depth effect\n",
        "for depth in [3, 5, 10, None]:\n",
        "    model = RandomForestClassifier(max_depth=depth, random_state=42)\n",
        "    model.fit(X_train_clf, y_train_clf)\n",
        "    print(f\"19. Accuracy with max_depth={depth}:\", accuracy_score(y_test_clf, model.predict(X_test_clf)))\n"
      ],
      "metadata": {
        "colab": {
          "base_uri": "https://localhost:8080/"
        },
        "id": "sZHcq_zfEw6a",
        "outputId": "7651cda9-4db0-43da-f631-bd3c8e705da7"
      },
      "execution_count": 32,
      "outputs": [
        {
          "output_type": "stream",
          "name": "stdout",
          "text": [
            "19. Accuracy with max_depth=3: 0.86\n",
            "19. Accuracy with max_depth=5: 0.88\n",
            "19. Accuracy with max_depth=10: 0.885\n",
            "19. Accuracy with max_depth=None: 0.9\n"
          ]
        }
      ]
    },
    {
      "cell_type": "code",
      "source": [
        "# 20. Bagging Regressor with different base estimators\n",
        "for base in [DecisionTreeRegressor(), KNeighborsRegressor()]:\n",
        "    # The parameter for the base estimator was renamed from 'base_estimator' to 'estimator' in scikit-learn v0.24\n",
        "    br = BaggingRegressor(estimator=base, n_estimators=10, random_state=42)\n",
        "    br.fit(X_train_reg, y_train_reg)\n",
        "    print(f\"20. Base {type(base).__name__} MSE:\", mean_squared_error(y_test_reg, br.predict(X_test_reg)))"
      ],
      "metadata": {
        "colab": {
          "base_uri": "https://localhost:8080/"
        },
        "id": "bSBZyMYKEzuz",
        "outputId": "373df5e5-eb00-4967-8491-ff742ac88dee"
      },
      "execution_count": 35,
      "outputs": [
        {
          "output_type": "stream",
          "name": "stdout",
          "text": [
            "20. Base DecisionTreeRegressor MSE: 3222.395831454\n",
            "20. Base KNeighborsRegressor MSE: 3582.321258909098\n"
          ]
        }
      ]
    },
    {
      "cell_type": "code",
      "source": [
        "\n",
        "# 21. ROC-AUC RF\n",
        "rf.fit(X_train_clf, y_train_clf)\n",
        "proba = rf.predict_proba(X_test_clf)[:, 1]\n",
        "print(\"21. ROC AUC:\", roc_auc_score(y_test_clf, proba))"
      ],
      "metadata": {
        "colab": {
          "base_uri": "https://localhost:8080/"
        },
        "id": "zQ904PomE6Wa",
        "outputId": "7dbbab59-af2b-475e-bed9-d82f1a632c09"
      },
      "execution_count": 36,
      "outputs": [
        {
          "output_type": "stream",
          "name": "stdout",
          "text": [
            "21. ROC AUC: 0.9379459350819013\n"
          ]
        }
      ]
    },
    {
      "cell_type": "code",
      "source": [
        "\n",
        "# 22. Cross-validation for Bagging\n",
        "cv_score = cross_val_score(bagging_clf, X_clf, y_clf, cv=5)\n",
        "print(\"22. Bagging CV Mean Accuracy:\", np.mean(cv_score))\n"
      ],
      "metadata": {
        "colab": {
          "base_uri": "https://localhost:8080/"
        },
        "id": "XP06aDacFDJu",
        "outputId": "a52e1e7f-991a-4f87-a300-050193311ce7"
      },
      "execution_count": 37,
      "outputs": [
        {
          "output_type": "stream",
          "name": "stdout",
          "text": [
            "22. Bagging CV Mean Accuracy: 0.9\n"
          ]
        }
      ]
    },
    {
      "cell_type": "code",
      "source": [
        "\n",
        "# 23. Precision-Recall Curve\n",
        "precision, recall, _ = precision_recall_curve(y_test_clf, proba)\n",
        "plt.plot(recall, precision)\n",
        "plt.title(\"23. Precision-Recall Curve\")\n",
        "plt.xlabel(\"Recall\")\n",
        "plt.ylabel(\"Precision\")\n",
        "plt.show()\n"
      ],
      "metadata": {
        "colab": {
          "base_uri": "https://localhost:8080/",
          "height": 472
        },
        "id": "SGPXriTbFFJe",
        "outputId": "124ec408-f09a-4076-f400-2aa625e6191e"
      },
      "execution_count": 38,
      "outputs": [
        {
          "output_type": "display_data",
          "data": {
            "text/plain": [
              "<Figure size 640x480 with 1 Axes>"
            ],
            "image/png": "[encoded data removed]"
          },
          "metadata": {}
        }
      ]
    },
    {
      "cell_type": "code",
      "source": [
        "\n",
        "# 24. Stacking RF + Logistic Regression\n",
        "stack2 = StackingClassifier(estimators=[('rf', rf), ('lr', LogisticRegression())], final_estimator=LogisticRegression())\n",
        "stack2.fit(X_train_clf, y_train_clf)\n",
        "print(\"24. Stacking (RF + LR) Accuracy:\", accuracy_score(y_test_clf, stack2.predict(X_test_clf)))"
      ],
      "metadata": {
        "colab": {
          "base_uri": "https://localhost:8080/"
        },
        "id": "Xv7D3mWNFHol",
        "outputId": "8aec2da8-e743-4eeb-8454-5528307a80ac"
      },
      "execution_count": 39,
      "outputs": [
        {
          "output_type": "stream",
          "name": "stdout",
          "text": [
            "24. Stacking (RF + LR) Accuracy: 0.89\n"
          ]
        }
      ]
    },
    {
      "cell_type": "code",
      "source": [
        "# 25. Bootstrap sample levels in Bagging\n",
        "for bootstrap in [True, False]:\n",
        "    br = BaggingRegressor(DecisionTreeRegressor(), bootstrap=bootstrap, random_state=42)\n",
        "    br.fit(X_train_reg, y_train_reg)\n",
        "    print(f\"25. Bootstrap={bootstrap} MSE:\", mean_squared_error(y_test_reg, br.predict(X_test_reg)))"
      ],
      "metadata": {
        "id": "7pyYmK9QFKEr",
        "outputId": "b8232f7d-23cf-4f83-a410-5e9fc1775fec",
        "colab": {
          "base_uri": "https://localhost:8080/"
        }
      },
      "execution_count": 40,
      "outputs": [
        {
          "output_type": "stream",
          "name": "stdout",
          "text": [
            "25. Bootstrap=True MSE: 3222.395831454\n",
            "25. Bootstrap=False MSE: 6198.254638316167\n"
          ]
        }
      ]
    }
  ]
}