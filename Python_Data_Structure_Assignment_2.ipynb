{
  "nbformat": 4,
  "nbformat_minor": 0,
  "metadata": {
    "colab": {
      "provenance": []
    },
    "kernelspec": {
      "name": "python3",
      "display_name": "Python 3"
    },
    "language_info": {
      "name": "python"
    }
  },
  "cells": [
    {
      "cell_type": "code",
      "execution_count": null,
      "metadata": {
        "id": "gLYIRiay2iPz"
      },
      "outputs": [],
      "source": [
        "#What are data structures, and why are they important?\n",
        "#Ans: A data structure is a way of organizing, managing, and storing data in a computer so that it can be accessed and modified efficiently.\n",
        "#Data structures form the foundation of computer science and programming. Choosing the right data structure is critical to writing efficient, scalable, and maintainable software."
      ]
    },
    {
      "cell_type": "code",
      "source": [
        "#Explain the difference between mutable and immutable data types with examples.\n",
        "#Ans: In Python, data types are categorized as mutable or immutable based on whether their values can be changed after creation.\n",
        "#Mutable Data Types: Mutable data types allow their contents to be modified after creation.\n",
        "#Examples: list, dict, set, and bytearray.\n",
        "#Immutable Data Types: Immutable data types do not allow modification of their contents after creation. Any operation that appears to modify an immutable object will create a new object instead.\n",
        "#Examples: int, float, bool, tuple, str, and frozenset.\n",
        "\n"
      ],
      "metadata": {
        "id": "KwCS5sL83Gjh"
      },
      "execution_count": null,
      "outputs": []
    },
    {
      "cell_type": "code",
      "source": [
        "#What are the main differences between lists and tuples in Python?\n",
        "#Ans: Lists are versatile, dynamic, and mutable, making them ideal for scenarios where data changes over time.\n",
        "#Tuples are static, immutable, and faster, making them perfect for fixed collections of data where performance and integrity are crucial."
      ],
      "metadata": {
        "id": "6_KzkvBZ4KZo"
      },
      "execution_count": null,
      "outputs": []
    },
    {
      "cell_type": "code",
      "source": [
        "# Describe how dictionaries store data?\n",
        "#Ans: A dictionary in Python is an unordered collection of key-value pairs. It allows you to store data in a way that enables fast retrieval using a key.\n",
        "#Each key in the dictionary maps to a specific value, and you can access the value by referencing the key."
      ],
      "metadata": {
        "id": "aHQTzPWU4q1e"
      },
      "execution_count": null,
      "outputs": []
    },
    {
      "cell_type": "code",
      "source": [
        "#Why might you use a set instead of a list in Python?\n",
        "#Ans: In Python, both sets and lists are used to store collections of data, but there are certain scenarios where a set is more suitable than a list.\n",
        "#We might choose a set over a list when:\n",
        "#We need to ensure uniqueness (no duplicates),need fast membership tests,want to perform set operations like union, intersection, and difference.\n",
        "#The order of elements does not matter.\n",
        "#Sets are powerful when dealing with large datasets and operations that require quick lookups and unique elements, while lists are better when order is important or when duplicates are necessary."
      ],
      "metadata": {
        "id": "ztaNCyO45Ejz"
      },
      "execution_count": null,
      "outputs": []
    },
    {
      "cell_type": "code",
      "source": [
        "#What is a string in Python, and how is it different from a list?\n",
        "#Ans: A string in Python is a sequence of characters enclosed within single (') or double (\") quotes.\n",
        "#Strings are used to represent textual data and can include letters, digits, punctuation, spaces, and other special characters.\n",
        "#Key Differences Between Strings and Lists:\n",
        "#Data Type: Sequence of characters (textual data)\tin string whereas Sequence of any data types (heterogeneous) in list.\n",
        "#Mutability: String Immutable (cannot be modified)\twhereas list is Mutable (can be modified)\n",
        "#Syntax: In string created using single or double quotes \" or '\tand in list Created using square brackets []\n"
      ],
      "metadata": {
        "id": "7RD_4F246LPP"
      },
      "execution_count": null,
      "outputs": []
    },
    {
      "cell_type": "code",
      "source": [
        "#How do tuples ensure data integrity in Python?\n",
        "#Ans: Tuples are an important data structure in Python that are used to store ordered collections of elements.\n",
        "#One of their key features is immutability, which plays a crucial role in ensuring data integrity.\n",
        "#Immutability: Once created, tuples cannot be modified, added, or removed, ensuring that the data remains consistent.\n",
        "#Hashability: Tuples are hashable (if their contents are), allowing them to be used as dictionary keys or set elements, ensuring that their integrity is preserved across operations.\n",
        "#Protection from Accidental Changes: By preventing any in-place modification, tuples safeguard against unintended data alterations.\n",
        "#Data Integrity Across Functions: When data is passed as a tuple, it cannot be changed inside the function, ensuring consistent behavior.\n",
        "#Simplified Debugging: The fixed nature of tuples makes it easier to trace and debug the flow of data.\n",
        "#Tuples are therefore an excellent choice when you need to guarantee that your data remains unchanged and consistent, making them an important tool in ensuring data integrity in Python applications."
      ],
      "metadata": {
        "id": "ahrUwOnv9BRl"
      },
      "execution_count": null,
      "outputs": []
    },
    {
      "cell_type": "code",
      "source": [
        "# What is a hash table, and how does it relate to dictionaries in Python?\n",
        "#Ans: A hash table is a data structure that implements an associative array, a structure that can map keys to values.\n",
        "#It allows for efficient lookup, insertion, and deletion of key-value pairs by utilizing a hash function to compute an index (or hash code) for each key.\n",
        "#This index is used to store the value associated with that key in an array or table.\n",
        "#In Python, dictionaries (dict) are implemented using hash tables.When you create a dictionary, Python uses a hash table internally to store the key-value pairs."
      ],
      "metadata": {
        "id": "WrNCAqfc-Aiv"
      },
      "execution_count": null,
      "outputs": []
    },
    {
      "cell_type": "code",
      "source": [
        "#Can lists contain different data types in Python?\n",
        "#Ans: Yes, lists in Python can contain elements of different data types. This is one of the key features that makes lists in Python highly versatile.\n",
        "#A single list can hold integers, strings, floating-point numbers, other lists, dictionaries, and even more complex data structures."
      ],
      "metadata": {
        "id": "mkyxEWMf-o82"
      },
      "execution_count": null,
      "outputs": []
    },
    {
      "cell_type": "code",
      "source": [
        "#Explain why strings are immutable in Python?\n",
        "#Ans: Strings in Python are immutable, meaning once a string is created, it cannot be changed, modified, or altered in any way.\n",
        "#There are several reasons for this design choice, each of which contributes to the efficiency, consistency, and safety of working with strings in Python.\n",
        "#Immutability in Python’s strings provides both performance optimizations and safety guarantees, making them a powerful tool in software development."
      ],
      "metadata": {
        "id": "t6rxnnoU-9EV"
      },
      "execution_count": null,
      "outputs": []
    },
    {
      "cell_type": "code",
      "source": [
        "#What advantages do dictionaries offer over lists for certain tasks?\n",
        "#Ans: Dictionaries in Python offer several advantages over lists, particularly when dealing with tasks that involve associating keys with values.\n",
        "#while lists are great for ordered collections and sequences of data, dictionaries are much more powerful when we need fast access, efficient key-value associations, and data manipulation with complex structures."
      ],
      "metadata": {
        "id": "roAD4S_J_qmD"
      },
      "execution_count": null,
      "outputs": []
    },
    {
      "cell_type": "code",
      "source": [
        "#Describe a scenario where using a tuple would be preferable over a list.\n",
        "#Situation: We are working on a program that tracks the coordinates of a point in a 2D space (e.g., a geographical location, a position in a game, or any mathematical point).\n",
        "#In general, whenever we need to represent a fixed, unchangeable collection of items, a tuple is the better choice over a list."
      ],
      "metadata": {
        "id": "OvAUaL_mARGD"
      },
      "execution_count": null,
      "outputs": []
    },
    {
      "cell_type": "code",
      "source": [
        "#How do sets handle duplicate values in Python?\n",
        "#In Python, sets automatically remove duplicate values. This means that a set can only contain unique elements. When you try to add a duplicate value to a set, it will not be included. This behavior is based on the fact that sets are designed to store unordered collections of distinct items.\n"
      ],
      "metadata": {
        "id": "KsMRUVIVA8Dr"
      },
      "execution_count": null,
      "outputs": []
    },
    {
      "cell_type": "code",
      "source": [
        "# How does the “in” keyword work differently for lists and dictionaries?\n",
        "#Ans: The in keyword in Python is used to check if a value exists in a collection, such as a list or a dictionary, but the way it works differs depending on the type of collection.\n",
        "#Lists: in checks for the presence of values in the list.\n",
        "#Dictionaries: in checks for the presence of keys in the dictionary. If we want to check for values, we need to use the values() method."
      ],
      "metadata": {
        "id": "ivPumIHSBIsK"
      },
      "execution_count": null,
      "outputs": []
    },
    {
      "cell_type": "code",
      "source": [
        "# Can you modify the elements of a tuple? Explain why or why not?\n",
        "#No, We cannot modify the elements of a tuple in Python. This is because tuples are immutable, meaning once they are created, their elements cannot be changed, added, or removed.\n",
        "#This immutability is one of the key characteristics of tuples in Python, which differentiates them from lists (which are mutable)."
      ],
      "metadata": {
        "id": "PWBTsk_2BtlC"
      },
      "execution_count": null,
      "outputs": []
    },
    {
      "cell_type": "code",
      "source": [
        "#What is a nested dictionary, and give an example of its use case?\n",
        "#A nested dictionary is a dictionary in Python where the values associated with keys can themselves be dictionaries. Essentially, a nested dictionary is a dictionary inside another dictionary, allowing us to represent more complex, hierarchical data structures.\n",
        "#A nested dictionary can be used to represent student information where each student has different attributes, such as their name, age, and subjects with corresponding grades. Each student’s information can be stored in an inner dictionary."
      ],
      "metadata": {
        "id": "Dh0yTERcCRwD"
      },
      "execution_count": null,
      "outputs": []
    },
    {
      "cell_type": "code",
      "source": [
        "#Describe the time complexity of accessing elements in a dictionary?\n",
        "#The time complexity of accessing elements in a dictionary is O(1) on average because of the efficient hashing mechanism used by Python's hash table implementation. However, in the worst case (due to hash collisions), it can degrade to O(n), though this is rare in practice.\n",
        "#Overall, dictionaries provide fast, constant-time access to data in most scenarios."
      ],
      "metadata": {
        "id": "88JgcfKuDUnh"
      },
      "execution_count": null,
      "outputs": []
    },
    {
      "cell_type": "code",
      "source": [
        "# In what situations are lists preferred over dictionaries?\n",
        "#While lists are useful in many situations, dictionaries are better suited for use cases where you need key-value pairs, fast lookups by keys, and when the order of elements is not a primary concern"
      ],
      "metadata": {
        "id": "ovsI3RxhDs12"
      },
      "execution_count": null,
      "outputs": []
    },
    {
      "cell_type": "code",
      "source": [
        "#Why are dictionaries considered unordered, and how does that affect data retrieval?\n",
        "#Dictionaries are considered unordered because their purpose is to provide efficient key-value pair storage using a hash table. While they maintain insertion order from Python 3.7 onwards, we should use them primarily for their key-based lookup efficiency rather than as ordered collections."
      ],
      "metadata": {
        "id": "wtHgzZCKDUkw"
      },
      "execution_count": null,
      "outputs": []
    },
    {
      "cell_type": "code",
      "source": [
        "#Explain the difference between a list and a dictionary in terms of data retrieval?\n",
        "#In Python, both lists and dictionaries are commonly used data structures, but they are designed for different purposes and behave differently when it comes to data retrieval.\n",
        "#Lists: Access elements by index, and they are suited for ordered collections where the position of elements matters.\n",
        "#Dictionaries: Access elements by key, and they are suited for situations where you need fast lookups, with each element identified by a unique key."
      ],
      "metadata": {
        "id": "9EJT3DNvEZaL"
      },
      "execution_count": null,
      "outputs": []
    },
    {
      "cell_type": "code",
      "source": [
        "                                                       #Practical Answer"
      ],
      "metadata": {
        "id": "ik_04T3Miu2X"
      },
      "execution_count": null,
      "outputs": []
    },
    {
      "cell_type": "code",
      "source": [
        "#Write a code to create a string with your name and print it.\n",
        "\n",
        "my_name = \"Md Arshad\"\n",
        "\n",
        "print(my_name)"
      ],
      "metadata": {
        "colab": {
          "base_uri": "https://localhost:8080/"
        },
        "id": "VBlVf3Kui4R7",
        "outputId": "4a8292bc-1535-4a7d-fe51-8902ac09b35f"
      },
      "execution_count": 1,
      "outputs": [
        {
          "output_type": "stream",
          "name": "stdout",
          "text": [
            "Md Arshad\n"
          ]
        }
      ]
    },
    {
      "cell_type": "code",
      "source": [
        "#Write a code to find the length of the string \"Hello World\".\n",
        "my_string = \"Hello World\"\n",
        "length_of_string = len(my_string)\n",
        "print(\"The length of the string is:\", length_of_string)"
      ],
      "metadata": {
        "colab": {
          "base_uri": "https://localhost:8080/"
        },
        "id": "-J6U5xyyjaGm",
        "outputId": "d4eedb68-ea3f-427c-8059-533777498b85"
      },
      "execution_count": 5,
      "outputs": [
        {
          "output_type": "stream",
          "name": "stdout",
          "text": [
            "The length of the string is: 11\n"
          ]
        }
      ]
    },
    {
      "cell_type": "code",
      "source": [
        "#Write a code to slice the first 3 characters from the string \"Python Programming\".\n",
        "\n",
        "my_string = \"Python Programming\"\n",
        "sliced_string = my_string[:3]\n",
        "print(sliced_string)"
      ],
      "metadata": {
        "colab": {
          "base_uri": "https://localhost:8080/"
        },
        "id": "Oy7p7oAWjbZc",
        "outputId": "a289762b-d460-44f2-ff50-96692749766b"
      },
      "execution_count": 4,
      "outputs": [
        {
          "output_type": "stream",
          "name": "stdout",
          "text": [
            "Pyt\n"
          ]
        }
      ]
    },
    {
      "cell_type": "code",
      "source": [
        "#Write a code to convert the string \"hello\" to uppercase.\n",
        "my_string = \"hello\"\n",
        "uppercase_string = my_string.upper()\n",
        "print(uppercase_string)"
      ],
      "metadata": {
        "colab": {
          "base_uri": "https://localhost:8080/"
        },
        "id": "n8i6VrA4jbTe",
        "outputId": "d4b5f2f3-e896-42ef-8f6e-d8ae0c90fa76"
      },
      "execution_count": 6,
      "outputs": [
        {
          "output_type": "stream",
          "name": "stdout",
          "text": [
            "HELLO\n"
          ]
        }
      ]
    },
    {
      "cell_type": "code",
      "source": [
        "#Write a code to replace the word \"apple\" with \"orange\" in the string \"I like apple\".\n",
        "my_string = \"I like apple\"\n",
        "modified_string = my_string.replace(\"apple\", \"orange\")\n",
        "print(modified_string)"
      ],
      "metadata": {
        "colab": {
          "base_uri": "https://localhost:8080/"
        },
        "id": "KejDAoe9k8IF",
        "outputId": "b46a99f6-d1dc-4362-e549-aef4d5958207"
      },
      "execution_count": 7,
      "outputs": [
        {
          "output_type": "stream",
          "name": "stdout",
          "text": [
            "I like orange\n"
          ]
        }
      ]
    },
    {
      "cell_type": "code",
      "source": [
        "#Write a code to create a list with numbers 1 to 5 and print it.\n",
        "my_list = [1, 2, 3, 4, 5]\n",
        "print(my_list)"
      ],
      "metadata": {
        "colab": {
          "base_uri": "https://localhost:8080/"
        },
        "id": "YT_LXlVxjbM3",
        "outputId": "f14ef2d7-a3a4-4f9e-8835-f39082c047ec"
      },
      "execution_count": 8,
      "outputs": [
        {
          "output_type": "stream",
          "name": "stdout",
          "text": [
            "[1, 2, 3, 4, 5]\n"
          ]
        }
      ]
    },
    {
      "cell_type": "code",
      "source": [
        "#Write a code to append the number 10 to the list [1, 2, 3, 4]\n",
        "my_list = [1, 2, 3, 4]\n",
        "my_list.append(10)\n",
        "print(my_list)"
      ],
      "metadata": {
        "colab": {
          "base_uri": "https://localhost:8080/"
        },
        "id": "Tqb_p8J6jbEk",
        "outputId": "31af9f4a-9b14-4bac-e7f9-6e05e4e8f869"
      },
      "execution_count": 9,
      "outputs": [
        {
          "output_type": "stream",
          "name": "stdout",
          "text": [
            "[1, 2, 3, 4, 10]\n"
          ]
        }
      ]
    },
    {
      "cell_type": "code",
      "source": [
        "#Write a code to remove the number 3 from the list [1, 2, 3, 4, 5]\n",
        "my_list = [1, 2, 3, 4, 5]\n",
        "my_list.remove(3)\n",
        "print(my_list)"
      ],
      "metadata": {
        "colab": {
          "base_uri": "https://localhost:8080/"
        },
        "id": "4UV_rGLTl7-X",
        "outputId": "9d326432-bc68-4461-c73c-e2ea54b72672"
      },
      "execution_count": 10,
      "outputs": [
        {
          "output_type": "stream",
          "name": "stdout",
          "text": [
            "[1, 2, 4, 5]\n"
          ]
        }
      ]
    },
    {
      "cell_type": "code",
      "source": [
        "#Write a code to access the second element in the list ['a', 'b', 'c', 'd']\n",
        "my_list = ['a', 'b', 'c', 'd']\n",
        "second_element = my_list[1]\n",
        "print(second_element)"
      ],
      "metadata": {
        "colab": {
          "base_uri": "https://localhost:8080/"
        },
        "id": "JdHn7oy9l70k",
        "outputId": "dcef8d0b-eeb2-4888-b6a5-76e2865a8d23"
      },
      "execution_count": 11,
      "outputs": [
        {
          "output_type": "stream",
          "name": "stdout",
          "text": [
            "b\n"
          ]
        }
      ]
    },
    {
      "cell_type": "code",
      "source": [
        "#Write a code to reverse the list [10, 20, 30, 40, 50].\n",
        "my_list = [10, 20, 30, 40, 50]\n",
        "my_list.reverse()\n",
        "print(my_list)"
      ],
      "metadata": {
        "colab": {
          "base_uri": "https://localhost:8080/"
        },
        "id": "AovxBxhrl7ni",
        "outputId": "4c910c6d-c4d0-4c1e-ea78-ad325602aeb4"
      },
      "execution_count": 12,
      "outputs": [
        {
          "output_type": "stream",
          "name": "stdout",
          "text": [
            "[50, 40, 30, 20, 10]\n"
          ]
        }
      ]
    },
    {
      "cell_type": "code",
      "source": [
        "#Write a code to create a tuple with the elements 10, 20, 30 and print it\n",
        "my_tuple = (10, 20, 30)\n",
        "print(my_tuple)"
      ],
      "metadata": {
        "colab": {
          "base_uri": "https://localhost:8080/"
        },
        "id": "gJhnOSLrl7Q-",
        "outputId": "5cab6764-b6e3-4d64-9c8b-1c987a482ab0"
      },
      "execution_count": 14,
      "outputs": [
        {
          "output_type": "stream",
          "name": "stdout",
          "text": [
            "(10, 20, 30)\n"
          ]
        }
      ]
    },
    {
      "cell_type": "code",
      "source": [
        "#Write a code to access the first element of the tuple ('apple', 'banana', 'cherry').\n",
        "my_tuple = ('apple', 'banana', 'cherry')\n",
        "first_element = my_tuple[0]\n",
        "print(first_element)"
      ],
      "metadata": {
        "colab": {
          "base_uri": "https://localhost:8080/"
        },
        "id": "zYBVCsjcmvdd",
        "outputId": "6d2d51bf-337d-4e13-ae81-a1db208bb305"
      },
      "execution_count": 15,
      "outputs": [
        {
          "output_type": "stream",
          "name": "stdout",
          "text": [
            "apple\n"
          ]
        }
      ]
    },
    {
      "cell_type": "code",
      "source": [
        "#Write a code to count how many times the number 2 appears in the tuple (1, 2, 3, 2, 4, 2).\n",
        "my_tuple = (1, 2, 3, 2, 4, 2)\n",
        "count_of_2 = my_tuple.count(2)\n",
        "print(count_of_2)"
      ],
      "metadata": {
        "colab": {
          "base_uri": "https://localhost:8080/"
        },
        "id": "6Kuft57mmvZc",
        "outputId": "6d117246-7b44-47c2-96a0-847f6ee081ef"
      },
      "execution_count": 16,
      "outputs": [
        {
          "output_type": "stream",
          "name": "stdout",
          "text": [
            "3\n"
          ]
        }
      ]
    },
    {
      "cell_type": "code",
      "source": [
        "#Write a code to find the index of the element \"cat\" in the tuple ('dog', 'cat', 'rabbit').\n",
        "my_tuple = ('dog', 'cat', 'rabbit')\n",
        "index_of_cat = my_tuple.index('cat')\n",
        "print(index_of_cat)"
      ],
      "metadata": {
        "colab": {
          "base_uri": "https://localhost:8080/"
        },
        "id": "65pola9QmvWX",
        "outputId": "5ba76cf4-48f9-494e-ed09-1325e4b46113"
      },
      "execution_count": 17,
      "outputs": [
        {
          "output_type": "stream",
          "name": "stdout",
          "text": [
            "1\n"
          ]
        }
      ]
    },
    {
      "cell_type": "code",
      "source": [
        "#Write a code to check if the element \"banana\" is in the tuple ('apple', 'orange', 'banana').\n",
        "my_tuple = ('apple', 'orange', 'banana')\n",
        "if 'banana' in my_tuple:\n",
        "    print(\"Yes, 'banana' is in the tuple.\")\n",
        "else:\n",
        "    print(\"No, 'banana' is not in the tuple.\")"
      ],
      "metadata": {
        "colab": {
          "base_uri": "https://localhost:8080/"
        },
        "id": "aJ-z-yGTmvUn",
        "outputId": "2fa5e44e-0c8f-4f68-e38d-a07d42e2b7b0"
      },
      "execution_count": 18,
      "outputs": [
        {
          "output_type": "stream",
          "name": "stdout",
          "text": [
            "Yes, 'banana' is in the tuple.\n"
          ]
        }
      ]
    },
    {
      "cell_type": "code",
      "source": [
        "#Write a code to create a set with the elements 1, 2, 3, 4, 5 and print it.\n",
        "my_set = {1, 2, 3, 4, 5}\n",
        "print(my_set)"
      ],
      "metadata": {
        "colab": {
          "base_uri": "https://localhost:8080/"
        },
        "id": "BSHWeq5-mvNA",
        "outputId": "6e9ea96c-8368-4fb9-a0b6-b9a44f001944"
      },
      "execution_count": 19,
      "outputs": [
        {
          "output_type": "stream",
          "name": "stdout",
          "text": [
            "{1, 2, 3, 4, 5}\n"
          ]
        }
      ]
    },
    {
      "cell_type": "code",
      "source": [
        "# Write a code to add the element 6 to the set {1, 2, 3, 4}.\n",
        "my_set = {1, 2, 3, 4}\n",
        "my_set.add(6)\n",
        "print(my_set)"
      ],
      "metadata": {
        "colab": {
          "base_uri": "https://localhost:8080/"
        },
        "id": "y8yBH-QtmvJ2",
        "outputId": "27899171-ef2f-4ee0-a433-4675a2abf431"
      },
      "execution_count": 20,
      "outputs": [
        {
          "output_type": "stream",
          "name": "stdout",
          "text": [
            "{1, 2, 3, 4, 6}\n"
          ]
        }
      ]
    }
  ]
}