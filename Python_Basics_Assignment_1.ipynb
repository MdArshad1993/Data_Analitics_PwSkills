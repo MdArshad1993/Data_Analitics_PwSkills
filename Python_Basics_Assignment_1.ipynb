{
  "nbformat": 4,
  "nbformat_minor": 0,
  "metadata": {
    "colab": {
      "provenance": []
    },
    "kernelspec": {
      "name": "python3",
      "display_name": "Python 3"
    },
    "language_info": {
      "name": "python"
    }
  },
  "cells": [
    {
      "cell_type": "code",
      "execution_count": null,
      "metadata": {
        "id": "Dw7Ap-0FFWn5"
      },
      "outputs": [],
      "source": [
        "# What is Python, and why is it popular?\n",
        "#Ans: Python is a high-level, interpreted programming language known for its simplicity and readability.\n",
        "#Python's simplicity, versatility, and strong community have made it one of the most popular programming languages in the world."
      ]
    },
    {
      "cell_type": "code",
      "source": [
        "# What is an interpreter in Python?\n",
        "#Ans: An interpreter in Python is a program that reads and executes Python code line by line,\n",
        "#translating it into machine language or bytecode that the computer can understand and execute.\n",
        "#Unlike a compiler, which translates the entire program into machine code before execution,\n",
        "#an interpreter processes the code in real-time, one statement at a time.\n"
      ],
      "metadata": {
        "id": "WlxxMF4_GZ3i"
      },
      "execution_count": null,
      "outputs": []
    },
    {
      "cell_type": "code",
      "source": [
        "#What are pre-defined keywords in Python?\n",
        "#Ans: In Python, pre-defined keywords are the words that have special meanings and cannot be used as identifiers (such as variable names, function names).\n",
        "#These keywords are part of the syntax of the Python language and are reserved for specific functions or purposes,\n",
        "#like defining control flow or data structures."
      ],
      "metadata": {
        "id": "YTYtSTjEHR8d"
      },
      "execution_count": null,
      "outputs": []
    },
    {
      "cell_type": "code",
      "source": [
        "#Can keywords be used as variable names?\n",
        "#Ans: No, keywords cannot be used as variable names in Python.\n",
        "#Keywords are reserved words that have special meanings in the language's syntax, and using them as variable names would cause a syntax error."
      ],
      "metadata": {
        "id": "1rrQ5tXmII0A"
      },
      "execution_count": null,
      "outputs": []
    },
    {
      "cell_type": "code",
      "source": [
        "#What is mutability in Python?\n",
        "#Ans: Mutability in Python refers to the ability of an object to be changed or modified after it is created.\n",
        "#If an object is mutable, you can change its content, such as adding, removing, or modifying elements."
      ],
      "metadata": {
        "id": "PWwk-ZPTIZ-q"
      },
      "execution_count": null,
      "outputs": []
    },
    {
      "cell_type": "code",
      "source": [
        "#Why are lists mutable, but tuples are immutable?\n",
        "#Ans: The reason lists are mutable and tuples are immutable in Python comes down to their intended use cases,\n",
        "#performance considerations, and design choices in the language.\n",
        "#Let's break it down:Lists are designed to be used when you need a collection of items that can change over time.\n",
        "#Tuples, on the other hand, are intended to represent fixed collections of items, where the contents should not change after creation."
      ],
      "metadata": {
        "id": "0ub-hy6dI4ij"
      },
      "execution_count": null,
      "outputs": []
    },
    {
      "cell_type": "code",
      "source": [
        "#What is the difference between “==” and “is” operators in Python?\n",
        "#Ans: In Python, the == and is operators are used for different purposes,\n",
        "#and understanding the distinction between them is important for writing correct and efficient code.\n",
        "#== (Equality Operator)The == operator is used to compare the values of two objects.\n",
        "#is (Identity Operator)The is operator is used to compare the identity of two objects."
      ],
      "metadata": {
        "id": "ogCX5cHtJk3q"
      },
      "execution_count": null,
      "outputs": []
    },
    {
      "cell_type": "code",
      "source": [
        "#What are logical operators in Python?\n",
        "#Ans: In Python, logical operators are used to combine conditional statements or boolean expressions.\n",
        "#They allow you to perform logical operations on one or more conditions. The three main logical operators in Python are:and,or,not."
      ],
      "metadata": {
        "id": "9b30iRq9KYVJ"
      },
      "execution_count": null,
      "outputs": []
    },
    {
      "cell_type": "code",
      "source": [
        "#What is type casting in Python?\n",
        "#Ans: Type casting in Python refers to the process of converting one data type into another."
      ],
      "metadata": {
        "id": "-08V2D4wNxpd"
      },
      "execution_count": null,
      "outputs": []
    },
    {
      "cell_type": "code",
      "source": [
        "#What is the difference between implicit and explicit type casting?\n",
        "#Ans: Implicit casting is safe, automatic, and involves widening conversions, while explicit casting is manual, allows risky operations, and often involves narrowing conversions."
      ],
      "metadata": {
        "id": "WaVqA76vOp-A"
      },
      "execution_count": null,
      "outputs": []
    },
    {
      "cell_type": "code",
      "source": [
        "#What is the purpose of conditional statements in Python?\n",
        "#Ans: The purpose of conditional statements in Python is to control the flow of execution in a program by enabling decisions based on specific conditions.\n",
        "#Conditional statements allow a program to execute certain blocks of code only when certain conditions are true, making the program dynamic and responsive."
      ],
      "metadata": {
        "id": "2Ql_YriOP9pN"
      },
      "execution_count": null,
      "outputs": []
    },
    {
      "cell_type": "code",
      "source": [
        "#How does the elif statement work?\n",
        "#Ans: The elif statement in Python is part of conditional logic and is used to handle multiple conditions in a program.\n",
        "#It stands for \"else if\" and allows you to check additional conditions if the preceding if (or elif) condition evaluates to False."
      ],
      "metadata": {
        "id": "KEtBm7R7QmOs"
      },
      "execution_count": null,
      "outputs": []
    },
    {
      "cell_type": "code",
      "source": [
        "#What is the difference between for and while loops?\n",
        "#Ans: The for loop and while loop are two common looping structures in Python.\n",
        "#While both are used to repeat a block of code multiple times, they differ in how they operate, their syntax, and the situations where each is most appropriate.\n",
        "#for Loop\tIterates over a sequence (e.g. list, range, string) and while Loop Repeats as long as a condition is True.\n"
      ],
      "metadata": {
        "id": "bK4zHaerRAyr"
      },
      "execution_count": null,
      "outputs": []
    },
    {
      "cell_type": "code",
      "source": [
        "#Describe a scenario where a while loop is more suitable than a for loop?\n",
        "#Ans: A while loop is more suitable than a for loop when the number of iterations is not known in advance and depends on a condition that changes dynamically during runtime.\n",
        "#This is typically the case in scenarios where the loop should run until a specific condition is met rather than iterating over a predefined sequence."
      ],
      "metadata": {
        "id": "2l5AjlJiSAar"
      },
      "execution_count": null,
      "outputs": []
    },
    {
      "cell_type": "code",
      "source": [
        "                                                                #Practical Questions"
      ],
      "metadata": {
        "id": "DXnKvzXgrtv7"
      },
      "execution_count": null,
      "outputs": []
    },
    {
      "cell_type": "code",
      "source": [
        "#Write a Python program to print \"Hello, World!\n",
        "a=\"Hello, World!\"\n",
        "print(a)\n"
      ],
      "metadata": {
        "colab": {
          "base_uri": "https://localhost:8080/"
        },
        "id": "FjhpMj2TL0Aw",
        "outputId": "750adc70-03a3-4bd5-cda1-75d8bb48d117"
      },
      "execution_count": null,
      "outputs": [
        {
          "output_type": "stream",
          "name": "stdout",
          "text": [
            "Hello, World!\n"
          ]
        }
      ]
    },
    {
      "cell_type": "code",
      "source": [
        "#Write a Python program that displays your name and age.\n",
        "name = \"Md Arshad\"\n",
        "age = 30\n",
        "print(\"Name: My name is\", name)\n",
        "print(\"Age: My age is\", age)"
      ],
      "metadata": {
        "colab": {
          "base_uri": "https://localhost:8080/"
        },
        "id": "0MGZgLYiN82k",
        "outputId": "3ec90272-bb5e-40c2-96c3-f8a8c7db089c"
      },
      "execution_count": null,
      "outputs": [
        {
          "output_type": "stream",
          "name": "stdout",
          "text": [
            "Name: My name is Md Arshad\n",
            "Age: My age is 30\n"
          ]
        }
      ]
    },
    {
      "cell_type": "code",
      "source": [
        "#Write code to print all the pre-defined keywords in Python using the keyword library.\n",
        "import keyword\n",
        "print(keyword.kwlist)\n",
        "\n"
      ],
      "metadata": {
        "colab": {
          "base_uri": "https://localhost:8080/"
        },
        "id": "Hv3xY3BtO6t7",
        "outputId": "082a88fa-ca5c-409e-9acf-0d1a30aaa408"
      },
      "execution_count": null,
      "outputs": [
        {
          "output_type": "stream",
          "name": "stdout",
          "text": [
            "['False', 'None', 'True', 'and', 'as', 'assert', 'async', 'await', 'break', 'class', 'continue', 'def', 'del', 'elif', 'else', 'except', 'finally', 'for', 'from', 'global', 'if', 'import', 'in', 'is', 'lambda', 'nonlocal', 'not', 'or', 'pass', 'raise', 'return', 'try', 'while', 'with', 'yield']\n"
          ]
        }
      ]
    },
    {
      "cell_type": "code",
      "source": [
        "#Write a program that checks if a given word is a Python keyword\n",
        "import keyword\n",
        "word = input(\"Enter a word: \")\n",
        "if keyword.iskeyword(word):\n",
        "    print(f\"'{word}' is a Python keyword.\")\n",
        "else:\n",
        "    print(f\"'{word}' is NOT a Python keyword.\")"
      ],
      "metadata": {
        "colab": {
          "base_uri": "https://localhost:8080/"
        },
        "id": "Qq0U2TQYPlv7",
        "outputId": "1c670fd8-78d3-48f7-bdb3-d20558ebe2e4"
      },
      "execution_count": null,
      "outputs": [
        {
          "output_type": "stream",
          "name": "stdout",
          "text": [
            "Enter a word: if\n",
            "'if' is a Python keyword.\n"
          ]
        }
      ]
    },
    {
      "cell_type": "code",
      "source": [
        "#Create a list and tuple in Python, and demonstrate how attempting to change an element works differently for each.\n",
        "# Create a list and a tuple\n",
        "my_list = [10, 20, 30]\n",
        "my_tuple = (10, 20, 30)\n",
        "\n",
        "# Modify an element in the list\n",
        "print(\"Original List:\", my_list)\n",
        "my_list[1] = 25  # Modifying the second element\n",
        "print(\"Modified List:\", my_list)\n",
        "\n",
        "# Attempt to modify an element in the tuple\n",
        "print(\"\\nOriginal Tuple:\", my_tuple)\n",
        "try:\n",
        "    my_tuple[1] = 25  # Attempting to modify the second element\n",
        "except TypeError as e:\n",
        "    print(\"Error:\", e)"
      ],
      "metadata": {
        "colab": {
          "base_uri": "https://localhost:8080/"
        },
        "id": "LQDGGkTpXdpO",
        "outputId": "347b03a9-2747-4ca2-ab4e-815a3cdb6858"
      },
      "execution_count": null,
      "outputs": [
        {
          "output_type": "stream",
          "name": "stdout",
          "text": [
            "Original List: [10, 20, 30]\n",
            "Modified List: [10, 25, 30]\n",
            "\n",
            "Original Tuple: (10, 20, 30)\n",
            "Error: 'tuple' object does not support item assignment\n"
          ]
        }
      ]
    },
    {
      "cell_type": "code",
      "source": [
        "#Write a function to demonstrate the behavior of mutable and immutable arguments."
      ],
      "metadata": {
        "id": "p5HeFaT6ZLQT"
      },
      "execution_count": null,
      "outputs": []
    },
    {
      "cell_type": "code",
      "source": [
        "def demonstrate_mutable_immutable(mutable_obj, immutable_obj):\n",
        "    \"\"\"\n",
        "    This function modifies both mutable and immutable objects.\n",
        "    \"\"\"\n",
        "    # Modify the mutable object (e.g., list)\n",
        "    mutable_obj.append(80)\n",
        "    print(\"Inside function (after modification): Mutable object:\", mutable_obj)\n",
        "\n",
        "    # Modify the immutable object (e.g., integer)\n",
        "    immutable_obj += 80\n",
        "    print(\"Inside function (after modification): Immutable object:\", immutable_obj)\n",
        "\n",
        "\n",
        "# Initialize a mutable object (list) and an immutable object (integer)\n",
        "mutable_example = [1, 2, 3]\n",
        "immutable_example = 50\n",
        "\n",
        "print(\"Before function call:\")\n",
        "print(\"Mutable object:\", mutable_example)\n",
        "print(\"Immutable object:\", immutable_example)\n",
        "\n",
        "# Call the function\n",
        "demonstrate_mutable_immutable(mutable_example, immutable_example)\n",
        "\n",
        "print(\"\\nAfter function call:\")\n",
        "print(\"Mutable object:\", mutable_example)  # Notice the change\n",
        "print(\"Immutable object:\", immutable_example)  # Original remains unchanged"
      ],
      "metadata": {
        "colab": {
          "base_uri": "https://localhost:8080/"
        },
        "id": "wUoOOvUsZeM4",
        "outputId": "6215b2c9-d270-4a47-dbb4-7c4059022f07"
      },
      "execution_count": null,
      "outputs": [
        {
          "output_type": "stream",
          "name": "stdout",
          "text": [
            "Before function call:\n",
            "Mutable object: [1, 2, 3]\n",
            "Immutable object: 50\n",
            "Inside function (after modification): Mutable object: [1, 2, 3, 80]\n",
            "Inside function (after modification): Immutable object: 130\n",
            "\n",
            "After function call:\n",
            "Mutable object: [1, 2, 3, 80]\n",
            "Immutable object: 50\n"
          ]
        }
      ]
    },
    {
      "cell_type": "code",
      "source": [
        "#Write a program to demonstrate the use of logical operators.\n",
        "# Input values from the user\n",
        "a = int(input(\"Enter first number (a): \"))\n",
        "b = int(input(\"Enter second number (b): \"))\n",
        "\n",
        "# Demonstrate the AND operator\n",
        "print(\"\\nAND Operator:\")\n",
        "if a > 0 and b > 0:\n",
        "    print(\"Both a and b are positive numbers.\")\n",
        "else:\n",
        "    print(\"At least one of a or b is not positive.\")\n",
        "\n",
        "# Demonstrate the OR operator\n",
        "print(\"\\nOR Operator:\")\n",
        "if a % 2 == 0 or b % 2 == 0:\n",
        "    print(\"At least one of a or b is an even number.\")\n",
        "else:\n",
        "    print(\"Neither a nor b is an even number.\")\n",
        "\n",
        "# Demonstrate the NOT operator\n",
        "print(\"\\nNOT Operator:\")\n",
        "if not (a < 0):\n",
        "    print(\"a is not a negative number.\")\n",
        "else:\n",
        "    print(\"a is a negative number.\")\n"
      ],
      "metadata": {
        "colab": {
          "base_uri": "https://localhost:8080/"
        },
        "id": "SnaglPdIe6nC",
        "outputId": "c4bfecfe-ecf5-48f1-82c6-529db6ac7122"
      },
      "execution_count": null,
      "outputs": [
        {
          "output_type": "stream",
          "name": "stdout",
          "text": [
            "Enter first number (a): 5\n",
            "Enter second number (b): 6\n",
            "\n",
            "AND Operator:\n",
            "Both a and b are positive numbers.\n",
            "\n",
            "OR Operator:\n",
            "At least one of a or b is an even number.\n",
            "\n",
            "NOT Operator:\n",
            "a is not a negative number.\n"
          ]
        }
      ]
    },
    {
      "cell_type": "code",
      "source": [
        "print(3>20 and 5<10)"
      ],
      "metadata": {
        "colab": {
          "base_uri": "https://localhost:8080/"
        },
        "id": "Z_BdcGP3g3T9",
        "outputId": "0b303d84-a3f3-4f8b-fcfc-ad462f693627"
      },
      "execution_count": null,
      "outputs": [
        {
          "output_type": "stream",
          "name": "stdout",
          "text": [
            "False\n"
          ]
        }
      ]
    },
    {
      "cell_type": "code",
      "source": [
        "print(3>2 or 2<5)"
      ],
      "metadata": {
        "colab": {
          "base_uri": "https://localhost:8080/"
        },
        "id": "J8fJMa4ug_4e",
        "outputId": "ab6ff98d-a1aa-4258-e289-e5cce53fe525"
      },
      "execution_count": null,
      "outputs": [
        {
          "output_type": "stream",
          "name": "stdout",
          "text": [
            "True\n"
          ]
        }
      ]
    },
    {
      "cell_type": "code",
      "source": [
        "s=True\n",
        "t=False\n",
        "print(not s)"
      ],
      "metadata": {
        "colab": {
          "base_uri": "https://localhost:8080/"
        },
        "id": "7DC9IfDohFPj",
        "outputId": "f59fa2d3-f509-4d3a-80fc-f163406ea152"
      },
      "execution_count": null,
      "outputs": [
        {
          "output_type": "stream",
          "name": "stdout",
          "text": [
            "False\n"
          ]
        }
      ]
    },
    {
      "cell_type": "code",
      "source": [
        "#Write a Python program to convert user input from string to integer, float, and boolean types.\n",
        "\n",
        "user_input = input(\"Enter a value: \")\n",
        "try:\n",
        "    int_value = int(user_input)\n",
        "    print(f\"Integer: {int_value}\")\n",
        "except ValueError:\n",
        "    print(\"Cannot convert to an integer.\")\n",
        "try:\n",
        "    float_value = float(user_input)\n",
        "    print(f\"Float: {float_value}\")\n",
        "except ValueError:\n",
        "    print(\"Cannot convert to a float.\")\n",
        "bool_value = bool(user_input.strip()) and user_input.strip() != \"0\"\n",
        "print(f\"Boolean: {bool_value}\")"
      ],
      "metadata": {
        "colab": {
          "base_uri": "https://localhost:8080/"
        },
        "id": "II5REUUOhbpW",
        "outputId": "2580db05-c055-464e-a4e6-a12d0f28e760"
      },
      "execution_count": 6,
      "outputs": [
        {
          "output_type": "stream",
          "name": "stdout",
          "text": [
            "Enter a value: 5\n",
            "Integer: 5\n",
            "Float: 5.0\n",
            "Boolean: True\n"
          ]
        }
      ]
    },
    {
      "cell_type": "code",
      "source": [
        "#Write code to demonstrate type casting with list elements.\n",
        "\n",
        "original_list = [\"100\", \"201.5\", \"True\", \"PwSkills\"]\n",
        "print(\"Original List:\", original_list)\n",
        "try:\n",
        "    int_value = int(original_list[0])\n",
        "    print(\"String to Integer:\", int_value)\n",
        "    float_value = float(original_list[1])\n",
        "    print(\"String to Float:\", float_value)\n",
        "    bool_value = bool(original_list[2])\n",
        "    print(\"String to Boolean:\", bool_value)\n",
        "    list_of_chars = list(original_list[3])\n",
        "    print(\"String to List of Characters:\", list_of_chars)\n",
        "\n",
        "except ValueError as e:\n",
        "    print(\"Error in type casting:\", e)\n"
      ],
      "metadata": {
        "colab": {
          "base_uri": "https://localhost:8080/"
        },
        "id": "9_WJyYwWjE7Q",
        "outputId": "6a79d580-725d-460a-b8f5-5e23ab1003d1"
      },
      "execution_count": 5,
      "outputs": [
        {
          "output_type": "stream",
          "name": "stdout",
          "text": [
            "Original List: ['100', '201.5', 'True', 'PwSkills']\n",
            "String to Integer: 100\n",
            "String to Float: 201.5\n",
            "String to Boolean: True\n",
            "String to List of Characters: ['P', 'w', 'S', 'k', 'i', 'l', 'l', 's']\n"
          ]
        }
      ]
    },
    {
      "cell_type": "code",
      "source": [
        "#Write a program that checks if a number is positive, negative, or zero.\n",
        "number = float(input(\"Enter a number: \"))\n",
        "if number > 0:\n",
        "    print(\"The number is positive.\")\n",
        "elif number < 0:\n",
        "    print(\"The number is negative.\")\n",
        "else:\n",
        "    print(\"The number is zero.\")\n"
      ],
      "metadata": {
        "colab": {
          "base_uri": "https://localhost:8080/"
        },
        "id": "hRYxw27okjEA",
        "outputId": "e5518ffc-e3cd-4049-fe9c-2f244c5e8f02"
      },
      "execution_count": 4,
      "outputs": [
        {
          "output_type": "stream",
          "name": "stdout",
          "text": [
            "Enter a number: 5\n",
            "The number is positive.\n"
          ]
        }
      ]
    },
    {
      "cell_type": "code",
      "source": [
        "#Write a for loop to print numbers from 1 to 10.\n",
        "for number in range(1, 11):\n",
        "    print(number)"
      ],
      "metadata": {
        "colab": {
          "base_uri": "https://localhost:8080/"
        },
        "id": "MrkSAvKFk_SO",
        "outputId": "188f56d6-6cad-4270-b1d5-6ffcdce3d3ee"
      },
      "execution_count": null,
      "outputs": [
        {
          "output_type": "stream",
          "name": "stdout",
          "text": [
            "1\n",
            "2\n",
            "3\n",
            "4\n",
            "5\n",
            "6\n",
            "7\n",
            "8\n",
            "9\n",
            "10\n"
          ]
        }
      ]
    },
    {
      "cell_type": "code",
      "source": [
        "#Write a Python program to find the sum of all even numbers between 1 and 50.\n",
        "sum_even_numbers = 0\n",
        "for number in range(1, 51):\n",
        "    if number % 2 == 0:\n",
        "        sum_even_numbers += number\n",
        "print(\"The sum of all even numbers between 1 and 50 is:\", sum_even_numbers)\n"
      ],
      "metadata": {
        "colab": {
          "base_uri": "https://localhost:8080/"
        },
        "id": "Z4iVvX1tlLBM",
        "outputId": "323e9b92-4d3f-49e8-e83f-e7829daa2dbe"
      },
      "execution_count": 3,
      "outputs": [
        {
          "output_type": "stream",
          "name": "stdout",
          "text": [
            "The sum of all even numbers between 1 and 50 is: 650\n"
          ]
        }
      ]
    },
    {
      "cell_type": "code",
      "source": [
        "#Write a program to reverse a string using a while loop.\n",
        "# Function to reverse a string using a while loop\n",
        "def reverse_string(input_string):\n",
        "    reversed_string = \"\"\n",
        "    index = len(input_string) - 1\n",
        "    while index >= 0:\n",
        "        reversed_string += input_string[index]\n",
        "        index -= 1\n",
        "    return reversed_string\n",
        "user_input = input(\"Enter a string: \")\n",
        "reversed_result = reverse_string(user_input)\n",
        "print(\"Reversed string:\", reversed_result)\n"
      ],
      "metadata": {
        "colab": {
          "base_uri": "https://localhost:8080/"
        },
        "id": "LL65FQUVlutF",
        "outputId": "82999919-a7f9-43bb-b161-ddf6c2e8d967"
      },
      "execution_count": 2,
      "outputs": [
        {
          "output_type": "stream",
          "name": "stdout",
          "text": [
            "Enter a string: PwSkills\n",
            "Reversed string: sllikSwP\n"
          ]
        }
      ]
    },
    {
      "cell_type": "code",
      "source": [
        "#Write a Python program to calculate the factorial of a number provided by the user using a while loop.\n",
        "# Function to calculate factorial using a while loop\n",
        "def factorial(n):\n",
        "    result = 1\n",
        "    while n > 1:\n",
        "        result *= n\n",
        "        n -= 1\n",
        "    return result\n",
        "num = int(input(\"Enter a number to calculate its factorial: \"))\n",
        "if num < 0:\n",
        "    print(\"Factorial is not defined for negative numbers.\")\n",
        "else:\n",
        "    print(f\"The factorial of {num} is: {factorial(num)}\")\n"
      ],
      "metadata": {
        "colab": {
          "base_uri": "https://localhost:8080/"
        },
        "id": "wglc6ddHm-0y",
        "outputId": "360ce1c5-d95f-42cd-de4d-c7a5a9c9cf65"
      },
      "execution_count": 1,
      "outputs": [
        {
          "output_type": "stream",
          "name": "stdout",
          "text": [
            "Enter a number to calculate its factorial: 8\n",
            "The factorial of 8 is: 40320\n"
          ]
        }
      ]
    }
  ]
}