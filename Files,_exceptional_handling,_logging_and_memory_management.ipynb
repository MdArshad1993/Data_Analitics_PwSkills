{
  "nbformat": 4,
  "nbformat_minor": 0,
  "metadata": {
    "colab": {
      "provenance": []
    },
    "kernelspec": {
      "name": "python3",
      "display_name": "Python 3"
    },
    "language_info": {
      "name": "python"
    }
  },
  "cells": [
    {
      "cell_type": "code",
      "source": [
        "# @title Theory questions"
      ],
      "metadata": {
        "cellView": "form",
        "id": "dNDaMpdmYYG3"
      },
      "execution_count": 1,
      "outputs": []
    },
    {
      "cell_type": "code",
      "execution_count": null,
      "metadata": {
        "id": "Dfi820NVKgGx"
      },
      "outputs": [],
      "source": [
        "1 #What is the difference between interpreted and compiled languages?\n",
        "\"\"\"The main difference between interpreted and compiled languages lies in how they execute code:\n",
        "\n",
        "Compiled Languages\n",
        "The source code is translated into machine code (binary) by a compiler before execution.\n",
        "The resulting executable file can be run directly on a specific operating system and CPU.\n",
        "Faster execution since the code is precompiled.\n",
        "Requires a compilation step before running, which can make debugging slower.\n",
        "Examples: C, C++, Rust, Go\n",
        "\n",
        "Interpreted Languages\n",
        "The source code is executed line-by-line by an interpreter at runtime.\n",
        "No separate compilation step; the interpreter reads and runs the code directly.\n",
        "Slower execution since the code is processed on the fly.\n",
        "Easier to debug since errors appear immediately.\n",
        "Examples: Python, JavaScript, PHP, Ruby\"\"\""
      ]
    },
    {
      "cell_type": "code",
      "source": [
        "2 #What is exception handling in Python?\n",
        "\"\"\"Exception Handling in Python\n",
        "Exception handling in Python is a mechanism that allows you to handle runtime errors gracefully without crashing the program.\n",
        "It helps in debugging and ensures smooth program execution.\"\"\"\n"
      ],
      "metadata": {
        "id": "2bIp65bsLCh2"
      },
      "execution_count": null,
      "outputs": []
    },
    {
      "cell_type": "code",
      "source": [
        "3 #What is the purpose of the finally block in exception handling?\n",
        "\"\"\"Purpose of the finally Block in Exception Handling\n",
        "The finally block in Python ensures that a specific piece of code runs no matter what, regardless of whether an exception occurs or not.\n",
        "It is commonly used for cleanup operations like closing files, releasing resources, or disconnecting from a database.\"\"\""
      ],
      "metadata": {
        "id": "s7KyBOLmLU8w"
      },
      "execution_count": null,
      "outputs": []
    },
    {
      "cell_type": "code",
      "source": [
        "4 #What is logging in Python?\n",
        "\"\"\"Logging in Python\n",
        "Logging in Python is a way to track events that happen while a program runs. It is useful for debugging, monitoring, and keeping a record of system activity.\n",
        "The built-in logging module allows developers to log messages at different levels of severity.\"\"\""
      ],
      "metadata": {
        "id": "oUdgMA-_LgeI"
      },
      "execution_count": null,
      "outputs": []
    },
    {
      "cell_type": "code",
      "source": [
        "5 #What is the significance of the __del__ method in Python?\n",
        "\"\"\"__del__ Method in Python (Destructor)\n",
        "The __del__ method in Python is a destructor that gets called when an object is about to be destroyed (i.e., when there are no more references to it).\n",
        "It is useful for cleaning up resources like closing files, releasing memory, or disconnecting from databases.\"\"\""
      ],
      "metadata": {
        "id": "c6vgHKjYLs0y"
      },
      "execution_count": null,
      "outputs": []
    },
    {
      "cell_type": "code",
      "source": [
        "6 #What is the difference between import and from ... import in Python?\n",
        "\"\"\"Difference Between import and from ... import in Python\n",
        "Both import and from ... import are used to bring external modules or specific functions into your Python script. However, they behave differently.\n",
        "\n",
        "Using import (Full Module Import)\n",
        "Imports the entire module.\n",
        "Requires using the module name when accessing functions or variables.\n",
        "\n",
        "Example:\n",
        "import math\n",
        "\n",
        "print(math.sqrt(16))  # Output: 4.0\n",
        "print(math.pi)        # Output: 3.141592653589793\n",
        "Advantage: Avoids name conflicts because functions are accessed via module_name.function_name.\n",
        "Disadvantage: Can be less convenient since you always need to prefix function calls with the module name.\n",
        "\n",
        "Using from ... import (Selective Import)\n",
        "Imports specific functions, classes, or variables from a module.\n",
        "You don’t need to use the module name when calling the function.\n",
        "\n",
        "Example:\n",
        "from math import sqrt, pi\n",
        "\n",
        "print(sqrt(16))  # Output: 4.0\n",
        "print(pi)        # Output: 3.141592653589793\n",
        "Advantage: Cleaner and more concise, no need to use the module prefix.\n",
        "Disadvantage: Higher risk of name conflicts (e.g., if another variable pi exists in the script).\n",
        "\n",
        "\"\"\""
      ],
      "metadata": {
        "id": "y2TfRbXuL4oZ"
      },
      "execution_count": null,
      "outputs": []
    },
    {
      "cell_type": "code",
      "source": [
        "7 #How can you handle multiple exceptions in Python?\n",
        "\n",
        "\"\"\"Handling Multiple Exceptions in Python\n",
        "In Python, you can handle multiple exceptions in several ways to make your code more robust and error-resistant.\n",
        "Below are different methods to handle multiple exceptions effectively.\"\"\""
      ],
      "metadata": {
        "id": "1AfjVGpcM7qp"
      },
      "execution_count": null,
      "outputs": []
    },
    {
      "cell_type": "code",
      "source": [
        "8 #What is the purpose of the with statement when handling files in Python?\n",
        "\"\"\"Purpose of the with Statement When Handling Files in Python\n",
        "The with statement in Python is used to automatically manage resources like file handling.\n",
        "It ensures that files are properly opened and closed, even if an error occurs during execution.\n",
        "\"\"\""
      ],
      "metadata": {
        "id": "ZOqUKRT2NWZ0"
      },
      "execution_count": null,
      "outputs": []
    },
    {
      "cell_type": "code",
      "source": [
        "9 #What is the difference between multithreading and multiprocessing?\n",
        "\"\"\"Difference Between Multithreading and Multiprocessing in Python\n",
        "Both multithreading and multiprocessing allow programs to run multiple tasks concurrently, but they work differently based on how they handle CPU cores and memory.\n",
        "\n",
        "Multithreading\n",
        "Multiple threads share the same memory space within a single process.\n",
        "Best for I/O-bound tasks (e.g., file reading, network requests, database queries).\n",
        "Affected by the Global Interpreter Lock (GIL) in Python, which prevents multiple threads from executing Python code simultaneously.\n",
        "\n",
        " Multiprocessing\n",
        "Multiple processes run independently, each with its own memory space.\n",
        "Best for CPU-bound tasks (e.g., data processing, computations).\n",
        "Not affected by the GIL, so it can fully utilize multi-core CPUs.\"\"\"\n"
      ],
      "metadata": {
        "id": "1fAhuwLsN1GB"
      },
      "execution_count": null,
      "outputs": []
    },
    {
      "cell_type": "code",
      "source": [
        "10 #What are the advantages of using logging in a program?\n",
        "\n",
        "\"\"\"Advantages of Using Logging in a Program\n",
        "Logging is an essential tool for tracking the execution of a program, debugging, and monitoring application performance.\n",
        "Instead of using print(), logging provides a structured, flexible, and efficient way to capture important events.\"\"\""
      ],
      "metadata": {
        "id": "cKdWBFI0OfZY"
      },
      "execution_count": null,
      "outputs": []
    },
    {
      "cell_type": "code",
      "source": [
        "11 #What is memory management in Python?\n",
        "\n",
        "\"\"\"Memory Management in Python\n",
        "Memory management in Python is the process of allocating, tracking, and releasing memory efficiently.\n",
        "Python uses a combination of automatic memory allocation, garbage collection, and memory optimization techniques to manage memory dynamically.\"\"\""
      ],
      "metadata": {
        "id": "T0s-5Hb3O_SE"
      },
      "execution_count": null,
      "outputs": []
    },
    {
      "cell_type": "code",
      "source": [
        "12 #What are the basic steps involved in exception handling in Python?\n",
        "\n",
        "\"\"\"Basic Steps Involved in Exception Handling in Python\n",
        "Exception handling in Python is used to manage runtime errors gracefully without crashing the program.\n",
        "The process involves detecting, handling, and optionally logging or recovering from errors.\"\"\""
      ],
      "metadata": {
        "id": "uVSbMgPDPNg8"
      },
      "execution_count": null,
      "outputs": []
    },
    {
      "cell_type": "code",
      "source": [
        "13 #Why is memory management important in Python?\n",
        "\n",
        "\"\"\"Memory management is crucial in Python to ensure efficient use of system resources, prevent memory leaks, and optimize performance.\n",
        "Since Python uses automatic memory management, developers don’t need to manually allocate and deallocate memory, but understanding its mechanisms helps write efficient and scalable code.\"\"\""
      ],
      "metadata": {
        "id": "ZmaUjgTTPcqM"
      },
      "execution_count": null,
      "outputs": []
    },
    {
      "cell_type": "code",
      "source": [
        "14 #What is the role of try and except in exception handling?\n",
        "\"\"\"Role of try and except in Exception Handling in Python\n",
        "In Python, exception handling is used to prevent programs from crashing when an error occurs.\n",
        "The try and except blocks are the foundation of this mechanism.\"\"\""
      ],
      "metadata": {
        "id": "ddx360e6PwPl"
      },
      "execution_count": null,
      "outputs": []
    },
    {
      "cell_type": "code",
      "source": [
        "15 #How does Python's garbage collection system work?\n",
        "\n",
        "\"\"\"Python has an automatic garbage collection (GC) system that manages memory efficiently by removing unused objects.\n",
        "It primarily relies on reference counting and cyclic garbage collection to reclaim memory occupied by objects no longer in use.\n",
        "\n",
        "                             How Python’s GC Works?\n",
        "\n",
        "Method\t                                          Purpose\n",
        "Reference                                         Counting\tDeletes objects when reference count = 0\n",
        "Cyclic Garbage Collection\t                        Detects and removes circular references\n",
        "Generational GC\t                                  Optimizes performance by collecting long-lived objects less frequently\n",
        "gc Module\t                                        Allows manual control over garbage collection\n",
        "\n",
        "\n",
        "Python’s garbage collection balances automation and efficiency, ensuring optimal memory usage.\"\"\""
      ],
      "metadata": {
        "id": "-jdfzij6QAtv"
      },
      "execution_count": null,
      "outputs": []
    },
    {
      "cell_type": "code",
      "source": [
        "16 #What is the purpose of the else block in exception handling?\n",
        "\n",
        "\"\"\"Purpose of the else Block in Exception Handling in Python\n",
        "In Python, the else block in exception handling is used to execute code only if no exception occurs in the try block.\n",
        "It helps separate error-prone code from successful execution logic, improving code readability and structure.\"\"\""
      ],
      "metadata": {
        "id": "FhxlLHbWQ1hK"
      },
      "execution_count": null,
      "outputs": []
    },
    {
      "cell_type": "code",
      "source": [
        "17 #What are the common logging levels in Python?\n",
        "\n",
        "\"\"\"Common Logging Levels in Python\n",
        "Python’s logging module provides five standard logging levels to categorize log messages by severity.\n",
        "These levels help developers track issues, debug applications, and monitor system behavior effectively.\"\"\""
      ],
      "metadata": {
        "id": "6wyt87bJRAY-"
      },
      "execution_count": null,
      "outputs": []
    },
    {
      "cell_type": "code",
      "source": [
        "18 #What is the difference between os.fork() and multiprocessing in Python?\n",
        "\n",
        "\"\"\"Difference Between os.fork() and multiprocessing in Python\n",
        "Both os.fork() and the multiprocessing module in Python create new processes, but they differ in implementation, portability, and use cases.\n",
        "\n",
        "\n",
        "Feature\t                          os.fork()                                                                      multiprocessing\n",
        "How It Works\t  :                 Creates a child process by duplicating the parent process\t                 Spawns a completely new process\n",
        "Portability\t    :                 UNIX/Linux only (not available on Windows)\t                               Works on all platforms (Windows, macOS, Linux)\n",
        "Memory Sharing\t:                 Shares memory between parent and child process\t                           Each process has separate memory space\n",
        "Use Case\t      :                 Low-level process control\t                                                 High-level parallelism in Python\n",
        "Thread Safety\t  :                 Not thread-safe\t                                                           Safer and avoids GIL (Global Interpreter Lock)\n",
        "Ease of Use\t    :                 Complex (requires manual resource management)\t                             Easy to use with Process class\n"
      ],
      "metadata": {
        "id": "N0HFI6VERV3P"
      },
      "execution_count": null,
      "outputs": []
    },
    {
      "cell_type": "code",
      "source": [
        "19 #What is the importance of closing a file in Python?\n",
        "\n",
        "\"\"\"Importance of Closing a File in Python\n",
        "Closing a file in Python is crucial for proper resource management and preventing issues like data corruption, memory leaks, and file locks.'''"
      ],
      "metadata": {
        "id": "TRitBsLfSiN-"
      },
      "execution_count": null,
      "outputs": []
    },
    {
      "cell_type": "code",
      "source": [
        "20 #What is the difference between file.read() and file.readline() in Python?\n",
        "\n",
        "\"\"\"Difference Between file.read() and file.readline() in Python\n",
        "Both file.read() and file.readline() are used to read data from a file, but they behave differently in terms of how much data they read and how they handle newlines.\n",
        "\n",
        "\n",
        " Key Differences:                    read()                    vs                          readline()\n",
        "Feature\t                           file.read()\t                                           file.readline()\n",
        "Reads\t                             Entire file or specified characters\t                   One line at a time\n",
        "Returns\t                           A single string\t                                       A single line as a string\n",
        "Memory Usage\t                     High (for large files)\t                                 Efficient (reads line by line)\n",
        "Newline Handling\t                 Includes \\n (if present in file)\t                       Includes \\n (unless it's the last line)\n",
        "Use Case\t                        Read full content or a fixed chunk\t                     Process files line by line\n",
        "\"\"\""
      ],
      "metadata": {
        "id": "ToZKK_2FS0Z0"
      },
      "execution_count": null,
      "outputs": []
    },
    {
      "cell_type": "code",
      "source": [
        "21 #What is the logging module in Python used for?\n",
        "\n",
        "\"\"\"The logging module in Python is used for tracking events that happen while a program runs. It helps with:\n",
        "\n",
        "Debugging: Find errors and bugs easily\n",
        "Monitoring: Track how the application behaves over time\n",
        "Error Reporting: Capture critical issues in logs\n",
        "Performance Analysis: Identify slow operations\n",
        "Audit Trails: Keep a record of system actions\n",
        "\"\"\""
      ],
      "metadata": {
        "id": "YBlA9dY7TwdN"
      },
      "execution_count": null,
      "outputs": []
    },
    {
      "cell_type": "code",
      "source": [
        "22 #What is the os module in Python used for in file handling?\n",
        "\n",
        "\"\"\"The os module in Python provides functions for interacting with the operating system, especially for file handling and directory management.\n",
        "\n",
        "Create, delete, and rename files & directories\n",
        "Check file properties (size, existence, permissions)\n",
        "Navigate and manipulate directories\n",
        "Work cross-platform (Windows, macOS, Linux)\n",
        "\n",
        "\n",
        "Task\t                                Function\n",
        "Check if file exists\t                 os.path.exists()\n",
        "Check if it's a file/folder\t           os.path.isfile(), os.path.isdir()\n",
        "Create a directory\t                    os.mkdir()\n",
        "Create nested directories\t            os.makedirs()\n",
        "Remove a directory\t                 os.rmdir() (empty only)\n",
        "List files & folders\t               os.listdir()\n",
        "Rename a file\t                       os.rename()\n",
        "Delete a file\t                          os.remove()\n",
        "Get file size\t                         os.path.getsize()\n",
        "Change directory\t                       os.chdir()\n",
        "Get current directory\t                   os.getcwd()\n",
        "Run system commands                     os.system()\n",
        "\n",
        "\"\"\""
      ],
      "metadata": {
        "id": "oALC3wPcUJGu"
      },
      "execution_count": null,
      "outputs": []
    },
    {
      "cell_type": "code",
      "source": [
        "23 #What are the challenges associated with memory management in Python?\n",
        "\n",
        "\"\"\"Challenges in Memory Management in Python\n",
        "Python has automatic memory management, which simplifies development but also comes with challenges.\n",
        "It uses Garbage Collection (GC) and Reference Counting to manage memory, but issues like memory leaks, fragmentation, and high memory usage can still arise.\n",
        "\n",
        "\n",
        "Python Memory Management Challenges & Solutions\n",
        "Challenge\t                                              Cause\t                                                              Solution\n",
        "Memory Leaks\t                            Circular references, global variables\t                                Use weakref, gc.collect()\n",
        "High Memory Usage\t                        Holding large objects too long\t                                      Use generators, delete objects when done\n",
        "Memory Fragmentation\t                    Frequent small allocations\t                                          Use optimized data structures\n",
        "Inefficient Object Storage\t              Lists for large data, duplicate strings\t                              Use tuple, sys.intern()\n",
        "Garbage Collection Overhead\t              Too many short-lived objects\t                                        Disable auto-GC, use manual gc.collect()\n",
        "No Manual Memory Control\t                 Python doesn’t allow explicit free()\t                                Use memory profilers, optimize data handling\n",
        "\n",
        "\"\"\"\n"
      ],
      "metadata": {
        "id": "s3vBCmLgVUoF"
      },
      "execution_count": null,
      "outputs": []
    },
    {
      "cell_type": "code",
      "source": [
        "24 #How do you raise an exception manually in Python?\n",
        "\n",
        "\"\"\"In Python, you can manually raise exceptions using the raise statement.\n",
        "This is useful when you want to enforce constraints, handle invalid data, or stop execution when something goes wrong.\n",
        "\n",
        "Basic Syntax for raise\n",
        "raise Exception(\"This is a manually raised exception\")\n",
        "Example\n",
        "x = -5\n",
        "if x < 0:\n",
        "    raise ValueError(\"x cannot be negative!\")\n",
        "\"\"\""
      ],
      "metadata": {
        "id": "kdMy8XtaWzPE"
      },
      "execution_count": null,
      "outputs": []
    },
    {
      "cell_type": "code",
      "source": [
        "25 #Why is it important to use multithreading in certain applications?\n",
        "\n",
        "\"\"\" Multithreading allows a program to run multiple tasks (threads) concurrently, improving efficiency and responsiveness.\n",
        "It’s particularly useful for I/O-bound tasks (e.g., downloading files, database queries, network requests) where the CPU is often idle while waiting for external resources."
      ],
      "metadata": {
        "id": "-ujQh-omX9OI"
      },
      "execution_count": null,
      "outputs": []
    },
    {
      "cell_type": "code",
      "source": [
        "# @title Practical Questions\n"
      ],
      "metadata": {
        "cellView": "form",
        "id": "RY-tvvvIYWoJ"
      },
      "execution_count": null,
      "outputs": []
    },
    {
      "cell_type": "code",
      "source": [
        "1 #How can you open a file for writing in Python and write a string to it?\n",
        "\n",
        "file = open(\"example.txt\", \"w\")\n",
        "file.write(\"Hello, World!\")\n",
        "file.close()"
      ],
      "metadata": {
        "id": "YMdOBSMGYWXk"
      },
      "execution_count": 5,
      "outputs": []
    },
    {
      "cell_type": "code",
      "source": [
        "2 #Write a Python program to read the contents of a file and print each line?\n",
        "\n",
        "# Open and read the file\n",
        "with open(\"example.txt\", \"r\") as file:\n",
        "    for line in file:\n",
        "        print(line.strip())\n"
      ],
      "metadata": {
        "colab": {
          "base_uri": "https://localhost:8080/"
        },
        "id": "3u0SQXJNcZ4l",
        "outputId": "def20ea3-464e-4538-d191-83e2ff2a3a58"
      },
      "execution_count": 6,
      "outputs": [
        {
          "output_type": "stream",
          "name": "stdout",
          "text": [
            "Hello, World!\n"
          ]
        }
      ]
    },
    {
      "cell_type": "code",
      "source": [
        "with open(\"example.txt\", \"r\") as file:\n",
        "    lines = file.readlines()\n",
        "    for line in lines:\n",
        "        print(line.strip())\n"
      ],
      "metadata": {
        "colab": {
          "base_uri": "https://localhost:8080/"
        },
        "id": "0n3ulMdsdLKj",
        "outputId": "3fd7f71b-40c0-416f-f73d-500c37abfae2"
      },
      "execution_count": 22,
      "outputs": [
        {
          "output_type": "stream",
          "name": "stdout",
          "text": [
            "Hello, World!\n",
            "2\n",
            "3\n",
            "4\n",
            "5\n"
          ]
        }
      ]
    },
    {
      "cell_type": "code",
      "source": [
        "3 #How would you handle a case where the file doesn't exist while trying to open it for reading?\n",
        "\n",
        "try:\n",
        "    with open(\"non_existent_file.txt\", \"r\") as file:\n",
        "        content = file.read()\n",
        "        print(content)\n",
        "except FileNotFoundError:\n",
        "    print(\"Error: The file does not exist. Please check the filename and try again.\")\n"
      ],
      "metadata": {
        "colab": {
          "base_uri": "https://localhost:8080/"
        },
        "id": "THcMgO-NdZpN",
        "outputId": "188f748f-92cf-49c3-9cd3-72bbe6a80305"
      },
      "execution_count": 8,
      "outputs": [
        {
          "output_type": "stream",
          "name": "stdout",
          "text": [
            "Error: The file does not exist. Please check the filename and try again.\n"
          ]
        }
      ]
    },
    {
      "cell_type": "code",
      "source": [
        "4 #Write a Python script that reads from one file and writes its content to another file?\n",
        "\n",
        "# Open source file for reading and destination file for writing\n",
        "with open(\"example.txt\", \"r\") as source, open(\"destination.txt\", \"w\") as destination:\n",
        "    for line in source:\n",
        "        destination.write(line)\n",
        "\n",
        "print(\"File copied successfully!\")\n",
        "\n"
      ],
      "metadata": {
        "colab": {
          "base_uri": "https://localhost:8080/"
        },
        "collapsed": true,
        "id": "y9dbcXfIdn1B",
        "outputId": "2f11982a-56c6-4ef4-d653-3a003f0a1fd4"
      },
      "execution_count": 9,
      "outputs": [
        {
          "output_type": "stream",
          "name": "stdout",
          "text": [
            "File copied successfully!\n"
          ]
        }
      ]
    },
    {
      "cell_type": "code",
      "source": [
        "5 #How would you catch and handle division by zero error in Python?\n",
        "\n",
        "try:\n",
        "    result = 10 / 0  # This will raise ZeroDivisionError\n",
        "except ZeroDivisionError:\n",
        "    print(\"Error: Division by zero is not allowed!\")\n"
      ],
      "metadata": {
        "colab": {
          "base_uri": "https://localhost:8080/"
        },
        "id": "2F1PLP8aX3hl",
        "outputId": "d43f2707-52c7-44dc-edfa-507e048bb529"
      },
      "execution_count": 10,
      "outputs": [
        {
          "output_type": "stream",
          "name": "stdout",
          "text": [
            "Error: Division by zero is not allowed!\n"
          ]
        }
      ]
    },
    {
      "cell_type": "code",
      "source": [
        "try:\n",
        "    num = int(input(\"Enter a number: \"))\n",
        "    result = 100 / num\n",
        "    print(\"Result:\", result)\n",
        "except ZeroDivisionError:\n",
        "    print(\"Error: You cannot divide by zero.\")\n",
        "except ValueError:\n",
        "    print(\"Error: Please enter a valid number.\")\n"
      ],
      "metadata": {
        "colab": {
          "base_uri": "https://localhost:8080/"
        },
        "id": "dK0KpgJPYN0t",
        "outputId": "8b952c90-14fd-4973-bdff-0d730df90247"
      },
      "execution_count": 16,
      "outputs": [
        {
          "output_type": "stream",
          "name": "stdout",
          "text": [
            "Enter a number: 0\n",
            "Error: You cannot divide by zero.\n"
          ]
        }
      ]
    },
    {
      "cell_type": "code",
      "source": [
        "6 #Write a Python program that logs an error message to a log file when a division by zero exception occurs?\n",
        "\n",
        "import logging\n",
        "\n",
        "# Configure logging to write errors to 'error.log'\n",
        "logging.basicConfig(filename=\"error.log\", level=logging.ERROR,\n",
        "                    format=\"%(asctime)s - %(levelname)s - %(message)s\")\n",
        "\n",
        "def divide_numbers(a, b):\n",
        "    \"\"\"Function to perform division and log errors if division by zero occurs.\"\"\"\n",
        "    try:\n",
        "        result = a / b\n",
        "        return result\n",
        "    except ZeroDivisionError:\n",
        "        logging.error(\"Division by zero attempted! Inputs: a=%s, b=%s\", a, b)\n",
        "        return \"Error: Division by zero is not allowed.\"\n",
        "\n",
        "# Example usage\n",
        "num1 = 10\n",
        "num2 = 0  # This will cause a ZeroDivisionError\n",
        "output = divide_numbers(num1, num2)\n",
        "print(output)  # Display user-friendly message\n",
        "\n"
      ],
      "metadata": {
        "colab": {
          "base_uri": "https://localhost:8080/"
        },
        "id": "2o6Dko6CYpZG",
        "outputId": "ba199d10-5abb-4d8c-e0a1-a4ab65778a82"
      },
      "execution_count": 17,
      "outputs": [
        {
          "output_type": "stream",
          "name": "stderr",
          "text": [
            "ERROR:root:Division by zero attempted! Inputs: a=10, b=0\n"
          ]
        },
        {
          "output_type": "stream",
          "name": "stdout",
          "text": [
            "Error: Division by zero is not allowed.\n"
          ]
        }
      ]
    },
    {
      "cell_type": "code",
      "source": [
        "7 #How do you log information at different levels (INFO, ERROR, WARNING) in Python using the logging module?\n",
        "\n",
        "import logging\n",
        "\n",
        "# Configure logging settings\n",
        "logging.basicConfig(filename=\"app.log\", level=logging.DEBUG,  # Log all levels from DEBUG upwards\n",
        "                    format=\"%(asctime)s - %(levelname)s - %(message)s\")\n",
        "\n",
        "# Log messages at different levels\n",
        "logging.debug(\"This is a DEBUG message (useful for troubleshooting).\")\n",
        "logging.info(\"This is an INFO message (general program updates).\")\n",
        "logging.warning(\"This is a WARNING message (potential issue).\")\n",
        "logging.error(\"This is an ERROR message (something went wrong).\")\n",
        "logging.critical(\"This is a CRITICAL message (severe problem).\")\n"
      ],
      "metadata": {
        "colab": {
          "base_uri": "https://localhost:8080/"
        },
        "id": "kDx1MfZyYu4d",
        "outputId": "bb39ca29-80ee-4d9b-cd1a-3debe4754853"
      },
      "execution_count": 20,
      "outputs": [
        {
          "output_type": "stream",
          "name": "stderr",
          "text": [
            "WARNING:root:This is a WARNING message (potential issue).\n",
            "ERROR:root:This is an ERROR message (something went wrong).\n",
            "CRITICAL:root:This is a CRITICAL message (severe problem).\n"
          ]
        }
      ]
    },
    {
      "cell_type": "code",
      "source": [
        "8 #Write a program to handle a file opening error using exception handling?\n",
        "\n",
        "try:\n",
        "    with open(\"non_existent_file.txt\", \"r\") as file:\n",
        "        content = file.read()\n",
        "        print(content)\n",
        "except FileNotFoundError:\n",
        "    print(\"Error: The file does not exist. Please check the filename and try again.\")\n",
        "except PermissionError:\n",
        "    print(\"Error: Permission denied. You don't have access to this file.\")\n",
        "except Exception as e:\n",
        "    print(f\"An unexpected error occurred: {e}\")\n"
      ],
      "metadata": {
        "colab": {
          "base_uri": "https://localhost:8080/"
        },
        "id": "VfEWURnoZ8UN",
        "outputId": "13fa7289-0025-45f7-b031-a7083e5793c0"
      },
      "execution_count": 21,
      "outputs": [
        {
          "output_type": "stream",
          "name": "stdout",
          "text": [
            "Error: The file does not exist. Please check the filename and try again.\n"
          ]
        }
      ]
    },
    {
      "cell_type": "code",
      "source": [
        "9 #How can you read a file line by line and store its content in a list in Python?\n",
        "\n",
        "with open(\"example.txt\", \"r\") as file:\n",
        "    lines = file.readlines()\n",
        "\n",
        "print(lines)\n"
      ],
      "metadata": {
        "colab": {
          "base_uri": "https://localhost:8080/"
        },
        "id": "iR0MMkH3gHyh",
        "outputId": "7318ac1e-3f17-4e5f-ee0b-dd74225f1233"
      },
      "execution_count": 27,
      "outputs": [
        {
          "output_type": "stream",
          "name": "stdout",
          "text": [
            "['Hello, World!\\n', '2\\n', '3\\n', '4\\n', '5\\n', 'This is a new line added to the file.']\n"
          ]
        }
      ]
    },
    {
      "cell_type": "code",
      "source": [
        "10 #How can you append data to an existing file in Python?\n",
        "\n",
        "with open(\"example.txt\", \"a\") as file:\n",
        "    file.write(\"\\nThis is a new line added to the file.\")\n"
      ],
      "metadata": {
        "id": "Cc3hBpirilRv"
      },
      "execution_count": 28,
      "outputs": []
    },
    {
      "cell_type": "code",
      "source": [
        "11 #Write a Python program that uses a try-except block to handle an error when attempting to access a dictionary key that doesn't exist?\n",
        "\n",
        "my_dict = {\"name\": \"Arshad\", \"age\": 25, \"city\": \"Delhi\"}\n",
        "\n",
        "try:\n",
        "    value = my_dict[\"country\"]  # Key does not exist\n",
        "    print(f\"Value: {value}\")\n",
        "except KeyError:\n",
        "    print(\"Error: The key does not exist in the dictionary.\")\n"
      ],
      "metadata": {
        "colab": {
          "base_uri": "https://localhost:8080/"
        },
        "id": "6K_xmq25jENh",
        "outputId": "bccced93-2ba2-4f1b-f3d2-197d60650b3b"
      },
      "execution_count": 30,
      "outputs": [
        {
          "output_type": "stream",
          "name": "stdout",
          "text": [
            "Error: The key does not exist in the dictionary.\n"
          ]
        }
      ]
    },
    {
      "cell_type": "code",
      "source": [
        "12 #Write a program that demonstrates using multiple except blocks to handle different types of exceptions?\n",
        "\n",
        "try:\n",
        "    # User input for division\n",
        "    num = int(input(\"Enter a number: \"))\n",
        "    result = 10 / num  # Might raise ZeroDivisionError\n",
        "\n",
        "    # Dictionary access\n",
        "    my_dict = {\"name\": \"Arshad\", \"age\": 25}\n",
        "    print(my_dict[\"city\"])  # Might raise KeyError\n",
        "\n",
        "except ZeroDivisionError:\n",
        "    print(\"Error: Cannot divide by zero.\")\n",
        "except ValueError:\n",
        "    print(\"Error: Invalid input! Please enter a number.\")\n",
        "except KeyError as e:\n",
        "    print(f\"Error: The key '{e}' does not exist in the dictionary.\")\n",
        "except Exception as e:\n",
        "    print(f\"An unexpected error occurred: {e}\")\n"
      ],
      "metadata": {
        "colab": {
          "base_uri": "https://localhost:8080/"
        },
        "id": "NqqhAPARjX16",
        "outputId": "3dd32a25-d813-43b0-a408-4c0cc043ee80"
      },
      "execution_count": 33,
      "outputs": [
        {
          "output_type": "stream",
          "name": "stdout",
          "text": [
            "Enter a number: 33\n",
            "Error: The key ''city'' does not exist in the dictionary.\n"
          ]
        }
      ]
    },
    {
      "cell_type": "code",
      "source": [
        "13 #How would you check if a file exists before attempting to read it in Python?\n",
        "\n",
        "import os\n",
        "\n",
        "filename = \"example.txt\"\n",
        "\n",
        "if os.path.exists(filename):  # Check if file exists\n",
        "    with open(filename, \"r\") as file:\n",
        "        content = file.read()\n",
        "        print(content)\n",
        "else:\n",
        "    print(\"Error: File does not exist.\")\n"
      ],
      "metadata": {
        "colab": {
          "base_uri": "https://localhost:8080/"
        },
        "id": "DNvL-rnpj65b",
        "outputId": "27d79f1d-8e9c-4a2b-a82c-a0de49b839d0"
      },
      "execution_count": 34,
      "outputs": [
        {
          "output_type": "stream",
          "name": "stdout",
          "text": [
            "Hello, World!\n",
            "2\n",
            "3\n",
            "4\n",
            "5\n",
            "This is a new line added to the file.\n",
            "This is a new line added to the file.\n"
          ]
        }
      ]
    },
    {
      "cell_type": "code",
      "source": [
        "14 #Write a program that uses the logging module to log both informational and error messages?\n",
        "\n",
        "import logging\n",
        "\n",
        "# Configure logging\n",
        "logging.basicConfig(\n",
        "    filename=\"app.log\",  # Log file name\n",
        "    level=logging.DEBUG,  # Log level (captures DEBUG, INFO, WARNING, ERROR, CRITICAL)\n",
        "    format=\"%(asctime)s - %(levelname)s - %(message)s\",  # Log format\n",
        "    datefmt=\"%Y-%m-%d %H:%M:%S\"  # Date format\n",
        ")\n",
        "\n",
        "def divide_numbers(a, b):\n",
        "    \"\"\"Attempts to divide two numbers and logs messages accordingly.\"\"\"\n",
        "    try:\n",
        "        result = a / b\n",
        "        logging.info(f\"Success: {a} / {b} = {result}\")\n",
        "        return result\n",
        "    except ZeroDivisionError:\n",
        "        logging.error(\"Error: Division by zero attempted!\")\n",
        "        return \"Cannot divide by zero.\"\n",
        "    except Exception as e:\n",
        "        logging.error(f\"Unexpected error: {e}\")\n",
        "        return f\"Error: {e}\"\n",
        "\n",
        "# Test the function\n",
        "print(divide_numbers(10, 2))  # Logs INFO\n",
        "print(divide_numbers(5, 0))   # Logs ERROR\n"
      ],
      "metadata": {
        "colab": {
          "base_uri": "https://localhost:8080/"
        },
        "id": "fpU4jLBskfy4",
        "outputId": "4baad025-1ce3-410d-f592-f5da03692898"
      },
      "execution_count": 35,
      "outputs": [
        {
          "output_type": "stream",
          "name": "stderr",
          "text": [
            "ERROR:root:Error: Division by zero attempted!\n"
          ]
        },
        {
          "output_type": "stream",
          "name": "stdout",
          "text": [
            "5.0\n",
            "Cannot divide by zero.\n"
          ]
        }
      ]
    },
    {
      "cell_type": "code",
      "source": [
        "15 #Write a Python program that prints the content of a file and handles the case when the file is empty?\n",
        "\n",
        "try:\n",
        "    with open(\"example.txt\", \"r\") as file:\n",
        "        content = file.read()\n",
        "        if content:\n",
        "            print(content)\n",
        "        else:\n",
        "            print(\"The file is empty.\")\n",
        "except FileNotFoundError:\n",
        "    print(\"Error: File not found.\")\n"
      ],
      "metadata": {
        "colab": {
          "base_uri": "https://localhost:8080/"
        },
        "id": "AwHndgzak8GH",
        "outputId": "f9297853-731c-4b31-b42e-e8f78dac96f3"
      },
      "execution_count": 38,
      "outputs": [
        {
          "output_type": "stream",
          "name": "stdout",
          "text": [
            "Hello, World!\n",
            "2\n",
            "3\n",
            "4\n",
            "5\n",
            "This is a new line added to the file.\n",
            "This is a new line added to the file.\n"
          ]
        }
      ]
    },
    {
      "cell_type": "code",
      "source": [
        "16 #Demonstrate how to use memory profiling to check the memory usage of a small program?\n",
        "\n",
        "!pip install memory_profiler"
      ],
      "metadata": {
        "colab": {
          "base_uri": "https://localhost:8080/"
        },
        "id": "h7CpHR4Xl1Rr",
        "outputId": "800958c7-70c3-4c1c-e433-cc481856eb2a"
      },
      "execution_count": 42,
      "outputs": [
        {
          "output_type": "stream",
          "name": "stdout",
          "text": [
            "Collecting memory_profiler\n",
            "  Downloading memory_profiler-0.61.0-py3-none-any.whl.metadata (20 kB)\n",
            "Requirement already satisfied: psutil in /usr/local/lib/python3.11/dist-packages (from memory_profiler) (5.9.5)\n",
            "Downloading memory_profiler-0.61.0-py3-none-any.whl (31 kB)\n",
            "Installing collected packages: memory_profiler\n",
            "Successfully installed memory_profiler-0.61.0\n"
          ]
        }
      ]
    },
    {
      "cell_type": "code",
      "source": [
        "import sys\n",
        "a = [1,2,6,3,4]\n",
        "\n",
        "print((sys.getsizeof(a), \"bytes\"))"
      ],
      "metadata": {
        "colab": {
          "base_uri": "https://localhost:8080/"
        },
        "id": "Zkvo84aKnUJB",
        "outputId": "f30bee14-02aa-4e71-fe2a-fec210af9e1f"
      },
      "execution_count": 56,
      "outputs": [
        {
          "output_type": "stream",
          "name": "stdout",
          "text": [
            "(104, 'bytes')\n"
          ]
        }
      ]
    },
    {
      "cell_type": "code",
      "source": [
        "from memory_profiler import memory_usage\n",
        "import time\n",
        "\n",
        "\n",
        "mem_before = memory_usage()[0]\n",
        "\n",
        "\n",
        "numbers = [i for i in range(10000000)]\n",
        "time.sleep(1)\n",
        "\n",
        "\n",
        "mem_after = memory_usage()[0]\n",
        "\n",
        "\n",
        "print(f\"Memory used: {mem_after - mem_before} MiB\")"
      ],
      "metadata": {
        "colab": {
          "base_uri": "https://localhost:8080/"
        },
        "id": "rN0B2jZEt_ZO",
        "outputId": "2fde4248-e3ac-4e77-a1d4-8193d6d37656"
      },
      "execution_count": 57,
      "outputs": [
        {
          "output_type": "stream",
          "name": "stdout",
          "text": [
            "Memory used: 387.38671875 MiB\n"
          ]
        }
      ]
    },
    {
      "cell_type": "code",
      "source": [
        "!pip install objgraph"
      ],
      "metadata": {
        "colab": {
          "base_uri": "https://localhost:8080/"
        },
        "id": "yLTF7onMuWex",
        "outputId": "466f49a2-9326-45b0-b61e-f7c78c866bb7"
      },
      "execution_count": 58,
      "outputs": [
        {
          "output_type": "stream",
          "name": "stdout",
          "text": [
            "Collecting objgraph\n",
            "  Downloading objgraph-3.6.2-py3-none-any.whl.metadata (12 kB)\n",
            "Downloading objgraph-3.6.2-py3-none-any.whl (17 kB)\n",
            "Installing collected packages: objgraph\n",
            "Successfully installed objgraph-3.6.2\n"
          ]
        }
      ]
    },
    {
      "cell_type": "code",
      "source": [
        "import objgraph\n",
        "\n",
        "lst = [1,2,3,4,5]\n",
        "objgraph.show_backrefs([lst], filename=\"memory_graph.png\")"
      ],
      "metadata": {
        "colab": {
          "base_uri": "https://localhost:8080/"
        },
        "id": "d9-XMwJeui9H",
        "outputId": "dd06c00c-a6cb-4825-f803-136b18da7138"
      },
      "execution_count": 59,
      "outputs": [
        {
          "output_type": "stream",
          "name": "stdout",
          "text": [
            "Graph written to /tmp/objgraph-0q3vuavf.dot (26 nodes)\n",
            "Image generated as memory_graph.png\n"
          ]
        }
      ]
    },
    {
      "cell_type": "code",
      "source": [
        "17 #Write a Python program to create and write a list of numbers to a file, one number per line?\n",
        "\n",
        "def write_numbers_to_file(filename, numbers):\n",
        "    \"\"\"Writes a list of numbers to a file, one number per line.\"\"\"\n",
        "    try:\n",
        "        with open(filename, \"w\") as file:\n",
        "            for number in numbers:\n",
        "                file.write(f\"{number}\\n\")  # Write each number followed by a newline\n",
        "        print(f\"Numbers successfully written to {filename}\")\n",
        "    except Exception as e:\n",
        "        print(f\"Error writing to file: {e}\")\n",
        "\n",
        "# Example usage\n",
        "numbers_list = [10, 20, 30, 40, 50]  # List of numbers\n",
        "write_numbers_to_file(\"numbers.txt\", numbers_list)\n"
      ],
      "metadata": {
        "colab": {
          "base_uri": "https://localhost:8080/"
        },
        "id": "r05xlSh_qMfj",
        "outputId": "000b51a5-06d0-48ab-b693-e19b7a0c8783"
      },
      "execution_count": 45,
      "outputs": [
        {
          "output_type": "stream",
          "name": "stdout",
          "text": [
            "Numbers successfully written to numbers.txt\n"
          ]
        }
      ]
    },
    {
      "cell_type": "code",
      "source": [
        "18 #How would you implement a basic logging setup that logs to a file with rotation after 1MB?\n",
        "\n",
        "import logging\n",
        "from logging.handlers import RotatingFileHandler\n",
        "\n",
        "# Configure logging\n",
        "log_file = \"app.log\"\n",
        "log_formatter = \"%(asctime)s - %(levelname)s - %(message)s\"\n",
        "\n",
        "handler = RotatingFileHandler(log_file, maxBytes=1_000_000, backupCount=5)  # 1MB per file, keep 5 backups\n",
        "handler.setFormatter(logging.Formatter(log_formatter))\n",
        "\n",
        "logger = logging.getLogger(\"MyLogger\")\n",
        "logger.setLevel(logging.DEBUG)\n",
        "logger.addHandler(handler)\n",
        "\n",
        "# Test logging\n",
        "for i in range(10):  # Generate many logs to test rotation\n",
        "    logger.info(f\"This is log message {i}\")\n"
      ],
      "metadata": {
        "colab": {
          "base_uri": "https://localhost:8080/"
        },
        "collapsed": true,
        "id": "JnYNSUoyqeTu",
        "outputId": "431e5ff8-b5a9-4b4e-979d-c79cf619ed35"
      },
      "execution_count": 52,
      "outputs": [
        {
          "output_type": "stream",
          "name": "stderr",
          "text": [
            "INFO:MyLogger:This is log message 0\n",
            "INFO:MyLogger:This is log message 1\n",
            "INFO:MyLogger:This is log message 2\n",
            "INFO:MyLogger:This is log message 3\n",
            "INFO:MyLogger:This is log message 4\n",
            "INFO:MyLogger:This is log message 5\n",
            "INFO:MyLogger:This is log message 6\n",
            "INFO:MyLogger:This is log message 7\n",
            "INFO:MyLogger:This is log message 8\n",
            "INFO:MyLogger:This is log message 9\n"
          ]
        }
      ]
    },
    {
      "cell_type": "code",
      "source": [
        "19 #Write a program that handles both IndexError and KeyError using a try-except block?\n",
        "\n",
        "def handle_exceptions():\n",
        "    try:\n",
        "        # List example (IndexError)\n",
        "        my_list = [1, 2, 3]\n",
        "        print(\"List Value:\", my_list[5])  # This will raise IndexError\n",
        "\n",
        "        # Dictionary example (KeyError)\n",
        "        my_dict = {\"a\": 10, \"b\": 20}\n",
        "        print(\"Dictionary Value:\", my_dict[\"c\"])  # This will raise KeyError\n",
        "\n",
        "    except IndexError:\n",
        "        print(\"Error: List index out of range!\")\n",
        "\n",
        "    except KeyError:\n",
        "        print(\"Error: Key not found in dictionary!\")\n",
        "\n",
        "# Run the function\n",
        "handle_exceptions()\n"
      ],
      "metadata": {
        "colab": {
          "base_uri": "https://localhost:8080/"
        },
        "id": "J63OBLjOsJRe",
        "outputId": "1e172f05-698c-4ea7-c81a-17151e747690"
      },
      "execution_count": 60,
      "outputs": [
        {
          "output_type": "stream",
          "name": "stdout",
          "text": [
            "Error: List index out of range!\n"
          ]
        }
      ]
    },
    {
      "cell_type": "code",
      "source": [
        "20 #How would you open a file and read its contents using a context manager in Python?\n",
        "\n",
        "def read_file(filename):\n",
        "    \"\"\"Opens a file and reads its contents using a context manager.\"\"\"\n",
        "    try:\n",
        "        with open(filename, \"r\") as file:  # Opens the file in read mode\n",
        "            content = file.read()  # Reads the entire file\n",
        "            print(content)  # Prints the content\n",
        "\n",
        "    except FileNotFoundError:\n",
        "        print(\"Error: The file does not exist.\")\n",
        "    except Exception as e:\n",
        "        print(f\"An error occurred: {e}\")\n",
        "\n",
        "# Example usage\n",
        "read_file(\"example.txt\")  # Change to an actual file path\n"
      ],
      "metadata": {
        "colab": {
          "base_uri": "https://localhost:8080/"
        },
        "id": "DSFTXdTGwg2E",
        "outputId": "53c88b46-dd1b-4ff3-bf7c-fe84937c136f"
      },
      "execution_count": 61,
      "outputs": [
        {
          "output_type": "stream",
          "name": "stdout",
          "text": [
            "Hello, World!\n",
            "2\n",
            "3\n",
            "4\n",
            "5\n",
            "This is a new line added to the file.\n",
            "This is a new line added to the file.\n"
          ]
        }
      ]
    },
    {
      "cell_type": "code",
      "source": [
        "21 #Write a Python program that reads a file and prints the number of occurrences of a specific word?\n",
        "\n",
        "def count_word_occurrences(filename, word):\n",
        "    \"\"\"Counts the occurrences of a specific word in a file.\"\"\"\n",
        "    try:\n",
        "        with open(filename, \"r\") as file:\n",
        "            content = file.read().lower()  # Read the file and convert to lowercase\n",
        "            words = content.split()  # Split content into words\n",
        "            count = words.count(word.lower())  # Count occurrences of the word\n",
        "            print(f\"The word '{word}' appears {count} times in '{filename}'.\")\n",
        "\n",
        "    except FileNotFoundError:\n",
        "        print(\"Error: The file does not exist.\")\n",
        "    except Exception as e:\n",
        "        print(f\"An error occurred: {e}\")\n",
        "\n",
        "# Example usage\n",
        "filename = \"example.txt\"  # Change to an actual file path\n",
        "word_to_count = \"line\"  # Change to the word you want to count\n",
        "count_word_occurrences(filename, word_to_count)\n"
      ],
      "metadata": {
        "colab": {
          "base_uri": "https://localhost:8080/"
        },
        "id": "Sy88iWxkwvzV",
        "outputId": "96134f18-a014-44bd-fc30-dad096dfa0c6"
      },
      "execution_count": 64,
      "outputs": [
        {
          "output_type": "stream",
          "name": "stdout",
          "text": [
            "The word 'line' appears 2 times in 'example.txt'.\n"
          ]
        }
      ]
    },
    {
      "cell_type": "code",
      "source": [
        "22 #How can you check if a file is empty before attempting to read its contents?\n",
        "\n",
        "import os\n",
        "\n",
        "def is_file_empty(filename):\n",
        "    \"\"\"Checks if a file is empty before reading.\"\"\"\n",
        "    return os.path.getsize(filename) == 0  # Returns True if size is 0 bytes\n",
        "\n",
        "filename = \"example.txt\"\n",
        "\n",
        "if os.path.exists(filename):  # Ensure file exists\n",
        "    if is_file_empty(filename):\n",
        "        print(f\"'{filename}' is empty.\")\n",
        "    else:\n",
        "        with open(filename, \"r\") as file:\n",
        "            print(\"File contents:\")\n",
        "            print(file.read())  # Read and print file contents\n",
        "else:\n",
        "    print(\"Error: File does not exist.\")\n"
      ],
      "metadata": {
        "colab": {
          "base_uri": "https://localhost:8080/"
        },
        "id": "m3bUIdtzxS_F",
        "outputId": "f6c706e6-f5e6-4c0d-a953-2fa6600dff22"
      },
      "execution_count": 65,
      "outputs": [
        {
          "output_type": "stream",
          "name": "stdout",
          "text": [
            "File contents:\n",
            "Hello, World!\n",
            "2\n",
            "3\n",
            "4\n",
            "5\n",
            "This is a new line added to the file.\n",
            "This is a new line added to the file.\n"
          ]
        }
      ]
    },
    {
      "cell_type": "code",
      "source": [
        "23 #Write a Python program that writes to a log file when an error occurs during file handling?\n",
        "\n",
        "import logging\n",
        "\n",
        "# Configure logging\n",
        "logging.basicConfig(filename=\"file_errors.log\",\n",
        "                    level=logging.ERROR,\n",
        "                    format=\"%(asctime)s - %(levelname)s - %(message)s\")\n",
        "\n",
        "def read_file(filename):\n",
        "    \"\"\"Attempts to read a file and logs errors if they occur.\"\"\"\n",
        "    try:\n",
        "        with open(filename, \"r\") as file:\n",
        "            content = file.read()\n",
        "            print(\"File content:\\n\", content)\n",
        "    except FileNotFoundError:\n",
        "        logging.error(f\"File '{filename}' not found.\")  # Log error\n",
        "        print(\"Error: The file does not exist. Check the log for details.\")\n",
        "    except PermissionError:\n",
        "        logging.error(f\"Permission denied for file '{filename}'.\")  # Log error\n",
        "        print(\"Error: Permission denied. Check the log for details.\")\n",
        "    except Exception as e:\n",
        "        logging.error(f\"Unexpected error with file '{filename}': {e}\")  # Log error\n",
        "        print(\"Error: An unexpected issue occurred. Check the log for details.\")\n",
        "\n",
        "# Example usage\n",
        "read_file(\"nonexistent.txt\")  # Try to read a non-existing file\n"
      ],
      "metadata": {
        "colab": {
          "base_uri": "https://localhost:8080/"
        },
        "id": "-g0WXpktxhrD",
        "outputId": "06833bcd-2820-456f-b377-8b8a7077cc0e"
      },
      "execution_count": 66,
      "outputs": [
        {
          "output_type": "stream",
          "name": "stderr",
          "text": [
            "ERROR:root:File 'nonexistent.txt' not found.\n"
          ]
        },
        {
          "output_type": "stream",
          "name": "stdout",
          "text": [
            "Error: The file does not exist. Check the log for details.\n"
          ]
        }
      ]
    }
  ]
}