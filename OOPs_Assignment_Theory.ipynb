{
  "nbformat": 4,
  "nbformat_minor": 0,
  "metadata": {
    "colab": {
      "provenance": []
    },
    "kernelspec": {
      "name": "python3",
      "display_name": "Python 3"
    },
    "language_info": {
      "name": "python"
    }
  },
  "cells": [
    {
      "cell_type": "code",
      "source": [
        "# What is Object-Oriented Programming (OOP)?\n",
        "#Object-Oriented Programming (OOP) is a programming paradigm that organizes data and behavior into objects, which are instances of classes.\n",
        "#It allows for code reusability, modularity, and better organization.\n",
        "\n"
      ],
      "metadata": {
        "id": "4U1bYXzEBw5g"
      },
      "execution_count": null,
      "outputs": []
    },
    {
      "cell_type": "code",
      "source": [
        "# What is a class in OOP?\n",
        "#A class is a blueprint or template for creating objects in Object-Oriented Programming (OOP).\n",
        "#It defines attributes (data/variables) and methods (functions) that describe the behavior of the objects created from the class."
      ],
      "metadata": {
        "id": "tdE6XG_8c2UO"
      },
      "execution_count": null,
      "outputs": []
    },
    {
      "cell_type": "code",
      "source": [
        "# What is an object in OOP?\n",
        "#An object is an instance of a class in Object-Oriented Programming (OOP).\n",
        "#It represents a real-world entity with attributes (data) and methods (behavior) defined by its class.\n",
        "\n",
        "#Each object has its own unique values for the attributes but shares the structure and behavior defined by the class."
      ],
      "metadata": {
        "id": "nebAZdd3dNcq"
      },
      "execution_count": null,
      "outputs": []
    },
    {
      "cell_type": "code",
      "source": [
        "# What is the difference between abstraction and encapsulation?\n",
        "#Both abstraction and encapsulation are key principles of Object-Oriented Programming (OOP), but they serve different purposes.\n",
        "#Abstraction :Hides complex implementation details and shows only the relevant features. To reduce complexity and improve usability.\n",
        "#Encapsulation :Restricts direct access to certain data and methods to protect object integrity.To safeguard data and prevent unintended modification."
      ],
      "metadata": {
        "id": "Fm6x3Iwydj5-"
      },
      "execution_count": null,
      "outputs": []
    },
    {
      "cell_type": "code",
      "source": [
        "#What are dunder methods in Python?\n",
        "#Dunder methods (short for double underscore methods), also known as magic methods or special methods, are built-in methods in Python that start and end with double underscores (__).\n",
        "#These methods are used to define the behavior of objects, allowing customization of built-in operations such as addition, string representation, attribute access, and object creation."
      ],
      "metadata": {
        "id": "AHYurUATeh5w"
      },
      "execution_count": null,
      "outputs": []
    },
    {
      "cell_type": "code",
      "source": [
        "#Explain the concept of inheritance in OOP?\n",
        "#Inheritance is a fundamental concept in OOP that allows a class (called the child class or subclass) to inherit properties and behaviors (attributes and methods) from another class (called the parent class or superclass).\n",
        "#This promotes code reusability and hierarchical relationships between classes."
      ],
      "metadata": {
        "id": "vvu-fZcBwrlE"
      },
      "execution_count": null,
      "outputs": []
    },
    {
      "cell_type": "code",
      "source": [
        "#What is polymorphism in OOP?\n",
        "#Polymorphism in OOP (Object-Oriented Programming) allows objects of different classes to be treated as objects of a common superclass.\n",
        "#Essentially, it means \"many forms\" — the same operation can behave differently on different classes!"
      ],
      "metadata": {
        "id": "3mjbi9rHw-yP"
      },
      "execution_count": null,
      "outputs": []
    },
    {
      "cell_type": "code",
      "source": [
        "# How is encapsulation achieved in Python?\n",
        "#Encapsulation is the concept of hiding the internal details of an object and only exposing the necessary parts.\n",
        "#It helps in data protection and restricts direct access to certain attributes and methods."
      ],
      "metadata": {
        "id": "vNtpkrRTx8Ye"
      },
      "execution_count": null,
      "outputs": []
    },
    {
      "cell_type": "code",
      "source": [
        "#What is a constructor in Python?\n",
        "#A constructor is a special method in Python used to initialize an object when it is created. In Python, the constructor method is named __init__()."
      ],
      "metadata": {
        "id": "GtVP6g5Byaae"
      },
      "execution_count": null,
      "outputs": []
    },
    {
      "cell_type": "code",
      "source": [
        "#What are class and static methods in Python?\n",
        "#In Python, class methods and static methods are two special types of methods that can be defined in a class, alongside the regular instance methods.\n",
        "#Definition: A class method is a method that is bound to the class rather than an instance of the class.\n",
        "#Definition: A static method does not take self (instance) or cls (class) as the first argument. It is independent of the class or instance, and doesn't modify class or instance-level da"
      ],
      "metadata": {
        "id": "K6bK1tsMzinL"
      },
      "execution_count": null,
      "outputs": []
    },
    {
      "cell_type": "code",
      "source": [
        "#What is method overloading in Python?\n",
        "#In many object-oriented programming languages, method overloading allows a class to have multiple methods with the same name but different parameters. However, Python does not support method overloading in the traditional sense (like Java or C++).\n",
        "\n",
        "#In Python, if you define multiple methods with the same name, the last definition of the method will overwrite the previous ones. But don't worry! You can still achieve similar functionality in Python using default arguments, variable-length arguments, or manual dispatch."
      ],
      "metadata": {
        "id": "YAJ40tvj0GyG"
      },
      "execution_count": null,
      "outputs": []
    },
    {
      "cell_type": "code",
      "source": [
        "#What is method overriding in OOP?\n",
        "#Method overriding is a feature in Object-Oriented Programming (OOP) where a subclass provides a specific implementation of a method that is already defined in its parent class.\n",
        "\n",
        "#When a method is overridden, the subclass method replaces the parent class method for instances of the subclass. However, the parent method can still be accessed using super()."
      ],
      "metadata": {
        "id": "VN4w2Eq8_uiF"
      },
      "execution_count": null,
      "outputs": []
    },
    {
      "cell_type": "code",
      "source": [
        "#What is a property decorator in Python?\n",
        "#A property decorator (@property) in Python is used to define a method as a property.\n",
        "#It allows a method to be accessed like an attribute, making object-oriented code cleaner and more readable."
      ],
      "metadata": {
        "id": "Na4eEUYsBRkm"
      },
      "execution_count": null,
      "outputs": []
    },
    {
      "cell_type": "code",
      "source": [
        "#Why is polymorphism important in OOP?\n",
        "#Polymorphism is a fundamental concept in Object-Oriented Programming (OOP) that allows objects of different classes to be treated as objects of a common superclass.\n",
        "#It enables code flexibility, reusability, and scalability, making software design more efficient."
      ],
      "metadata": {
        "id": "tv26P67xBoAk"
      },
      "execution_count": null,
      "outputs": []
    },
    {
      "cell_type": "code",
      "source": [
        "#What is an abstract class in Python?\n",
        "#An abstract class in Python is a class that cannot be instantiated and is meant to be a blueprint for other classes.\n",
        "#It defines methods that must be implemented by its subclasses."
      ],
      "metadata": {
        "id": "Aqr9ylimCCBO"
      },
      "execution_count": null,
      "outputs": []
    },
    {
      "cell_type": "code",
      "source": [
        "#What are the advantages of OOP?\n",
        "#Object-Oriented Programming (OOP) is a programming paradigm that organizes code into objects and provides various benefits that make software development more efficient, scalable, and maintainable."
      ],
      "metadata": {
        "id": "ZetX1DvXCdh2"
      },
      "execution_count": null,
      "outputs": []
    },
    {
      "cell_type": "code",
      "source": [
        "#What is the difference between a class variable and an instance variable?\n",
        "#In Object-Oriented Programming (OOP), variables in a class can be categorized into class variables and instance variables. They differ in scope, storage, and usage.\n",
        "#Feature\t :                     Class Variable  \t                                            Instance Variable\n",
        "#Definition:\t           Shared across all instances of a class.\t                    Unique to each object (instance).\n",
        "#Scope\t   :            Available to all objects of the class.\t                          Specific to the object where it's created.\n",
        "#Storage\t  :                Stored in the class memory.\t                                    Stored in individual object memory.\n",
        "#Declaration:\t           Defined inside the class but outside any method.\t                Defined inside a method (usually __init__) with self.\n",
        "#Modification:\t        Changes affect all instances if accessed through the class.\t    Changes affect only the specific instance.\n",
        "#Access\t     :                Accessed via ClassName.variable or self.variable.\t             Accessed via self.variable."
      ],
      "metadata": {
        "id": "B2tj-KftCs4q"
      },
      "execution_count": null,
      "outputs": []
    },
    {
      "cell_type": "code",
      "source": [
        "#What is multiple inheritance in Python?\n",
        "#Multiple inheritance is a feature in Python that allows a class to inherit attributes and methods from more than one parent class.\n",
        "#This means a single child class can have multiple base classes."
      ],
      "metadata": {
        "id": "cBU-9WesWYCo"
      },
      "execution_count": null,
      "outputs": []
    },
    {
      "cell_type": "code",
      "source": [
        "#Explain the purpose of ‘’__str__’ and ‘__repr__’ ‘ methods in Python.\n",
        "#Both __str__ and __repr__ are dunder (double underscore) methods in Python that define how objects are represented as strings. However, they serve different purposes.\n",
        "#__str__ (String Representation)\n",
        "#Defines a user-friendly string representation of an object.\n",
        "#Used when calling str(object) or using print(object).\n",
        "#Should return a readable and meaningful description of the object.\n",
        "\n",
        "#__repr__ (Official Representation)\n",
        "#Defines a developer-friendly representation of an object.\n",
        "#Used when calling repr(object) or evaluating the object in an interactive session.\n",
        "#Should return a valid Python expression that can recreate the object (if possible)."
      ],
      "metadata": {
        "id": "E6F9cn4cWzrF"
      },
      "execution_count": null,
      "outputs": []
    },
    {
      "cell_type": "code",
      "source": [
        "#What is the significance of the ‘super()’ function in Python?\n",
        "#The super() function is used in Python to call a method from a parent (or superclass) within a child (or subclass) method.\n",
        "#It is especially useful in inheritance when working with class hierarchies."
      ],
      "metadata": {
        "id": "xwAB27ABXbTT"
      },
      "execution_count": null,
      "outputs": []
    },
    {
      "cell_type": "code",
      "source": [
        "#What is the significance of the __del__ method in Python?\n",
        "#The __del__ method is a destructor in Python, called when an object is about to be destroyed.\n",
        "#It is mainly used for cleaning up resources (e.g., closing files, releasing memory, disconnecting from databases, etc.)."
      ],
      "metadata": {
        "id": "CQO1CSI8aXeV"
      },
      "execution_count": null,
      "outputs": []
    },
    {
      "cell_type": "code",
      "source": [
        "#What is the difference between @staticmethod and @classmethod in Python?\n",
        "#In Python, both @staticmethod and @classmethod are decorators used to define methods inside a class.\n",
        "#However, they differ in how they handle class and instance attributes.\n",
        "#1. @staticmethod (Independent Utility Function)\n",
        "#A @staticmethod is a method that does not operate on instance or class attributes.\n",
        "\n",
        "#It behaves like a normal function but belongs inside a class for logical grouping.\n",
        "#It does not take self or cls as an argument.\n",
        "#It is used when a method does not need access to class or instance attributes.\n",
        "\n",
        "#2. @classmethod (Operates on Class)\n",
        "#A @classmethod takes cls as its first argument, referring to the class itself.\n",
        "\n",
        "#It can modify class-level attributes and create new class instances.\n",
        "#It is used when you need to work with class-level data rather than instance data."
      ],
      "metadata": {
        "id": "DgYbUj_6b4hM"
      },
      "execution_count": null,
      "outputs": []
    },
    {
      "cell_type": "code",
      "source": [
        "#How does polymorphism work in Python with inheritance?\n",
        "#Polymorphism is an Object-Oriented Programming (OOP) concept that allows different classes to have methods with the same name but different behaviors.\n",
        "#In Python, polymorphism is often implemented through inheritance, where a child class overrides a method of the parent class.\n",
        "#Polymorphism allows us to use a single interface (method name) for different types of objects. This makes code more flexible and extensible."
      ],
      "metadata": {
        "id": "AJLXqh-cePco"
      },
      "execution_count": null,
      "outputs": []
    },
    {
      "cell_type": "code",
      "source": [
        "#What is method chaining in Python OOP?\n",
        "#Method chaining is a technique in Object-Oriented Programming (OOP) where multiple methods are called on the same object in a single line of code.\n",
        "#This is achieved by making each method return self (the instance itself), allowing further method calls to be chained together."
      ],
      "metadata": {
        "id": "kkTzfpqbfQhu"
      },
      "execution_count": null,
      "outputs": []
    },
    {
      "cell_type": "code",
      "source": [
        "#What is the purpose of the __call__ method in Python?\n",
        "#The __call__ method in Python allows an instance of a class to be called like a function.\n",
        "#When an object of a class that implements __call__ is invoked using parentheses (), Python automatically calls the __call__ method.\n"
      ],
      "metadata": {
        "id": "WH67fnUvg3bp"
      },
      "execution_count": null,
      "outputs": []
    }
  ]
}