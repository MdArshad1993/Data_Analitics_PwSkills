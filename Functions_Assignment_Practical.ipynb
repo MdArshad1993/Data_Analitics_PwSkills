{
  "nbformat": 4,
  "nbformat_minor": 0,
  "metadata": {
    "colab": {
      "provenance": []
    },
    "kernelspec": {
      "name": "python3",
      "display_name": "Python 3"
    },
    "language_info": {
      "name": "python"
    }
  },
  "cells": [
    {
      "cell_type": "code",
      "source": [
        "#1 Write a Python function that takes a list of numbers as input and returns the sum of all even numbers in the list.\n",
        "def sum_of_even_numbers(numbers):\n",
        "    \"\"\"\n",
        "    Calculate the sum of all even numbers in the given list.\n",
        "\n",
        "    Args:\n",
        "        numbers (list): A list of integers.\n",
        "\n",
        "    Returns:\n",
        "        int: The sum of all even numbers in the list.\n",
        "    \"\"\"\n",
        "    return sum(num for num in numbers if num % 2 == 0)\n",
        "\n",
        "# Example usage\n",
        "numbers = [1, 2, 3, 4, 5, 6, 7, 8, 9, 10]\n",
        "result = sum_of_even_numbers(numbers)\n",
        "print(\"Sum of even numbers:\", result)\n"
      ],
      "metadata": {
        "colab": {
          "base_uri": "https://localhost:8080/"
        },
        "id": "4U1bYXzEBw5g",
        "outputId": "f950ec5f-2de1-49c5-91e0-1bd41c3f9be5"
      },
      "execution_count": 37,
      "outputs": [
        {
          "output_type": "stream",
          "name": "stdout",
          "text": [
            "Sum of even numbers: 30\n"
          ]
        }
      ]
    },
    {
      "cell_type": "code",
      "source": [
        "#2 Create a Python function that accepts a string and returns the reverse of that string.\n",
        "\n"
      ],
      "metadata": {
        "id": "UPeWCDMJ6_dT"
      },
      "execution_count": null,
      "outputs": []
    },
    {
      "cell_type": "code",
      "source": [
        "def reverse_string(input_string):\n",
        "    \"\"\"\n",
        "    This function accepts a string and returns its reverse.\n",
        "    \"\"\"\n",
        "    return input_string[::-1]\n",
        "\n",
        "result = reverse_string(\"hello\")\n",
        "print(\"Reversed string:\", result)\n"
      ],
      "metadata": {
        "colab": {
          "base_uri": "https://localhost:8080/"
        },
        "id": "huTGld2Y6deP",
        "outputId": "d6f9f76c-e4d3-440b-94a2-7ae757dc9205"
      },
      "execution_count": null,
      "outputs": [
        {
          "output_type": "stream",
          "name": "stdout",
          "text": [
            "Reversed string: olleh\n"
          ]
        }
      ]
    },
    {
      "cell_type": "code",
      "source": [
        "#Explanation:\n",
        "#Function Definition: The function reverse_string takes a single argument input_string.\n",
        "#String Slicing: The slice [::-1] is used to reverse the string. It means:\n",
        "#Start from the end (-1 step size).\n",
        "#Go backwards through the string.\n",
        "#Return Value: The reversed string is returned."
      ],
      "metadata": {
        "id": "2LHXsoUG7Oee"
      },
      "execution_count": null,
      "outputs": []
    },
    {
      "cell_type": "code",
      "source": [
        "#3 Implement a Python function that takes a list of integers and returns a new list containing the squares of each number.\n",
        "\n",
        "def square_numbers(input_list):\n",
        "    \"\"\"\n",
        "    This function takes a list of integers and returns a new list containing the squares of each number.\n",
        "    \"\"\"\n",
        "    return [num ** 2 for num in input_list]\n",
        "\n",
        "numbers = [1, 2, 3, 4, 5]\n",
        "squared_numbers = square_numbers(numbers)\n",
        "print(\"Original list:\", numbers)\n",
        "print(\"Squared list:\", squared_numbers)\n",
        "#Explanation:\n",
        "#Function Definition:\n",
        "#The function square_numbers accepts a list of integers, input_list.\n",
        "#List Comprehension:\n",
        "#[num ** 2 for num in input_list] iterates through each element in input_list, squares it (num ** 2), and creates a new list with the squared values.\n",
        "#Return Value:\n",
        "#The function returns the new list containing squared numbers.\n"
      ],
      "metadata": {
        "colab": {
          "base_uri": "https://localhost:8080/"
        },
        "id": "HL1l1oS57SFx",
        "outputId": "93e96db9-a7ab-4bde-f5b8-b646656dfcf2"
      },
      "execution_count": null,
      "outputs": [
        {
          "output_type": "stream",
          "name": "stdout",
          "text": [
            "Original list: [1, 2, 3, 4, 5]\n",
            "Squared list: [1, 4, 9, 16, 25]\n"
          ]
        }
      ]
    },
    {
      "cell_type": "code",
      "source": [
        "#4 Write a Python function that checks if a given number is prime or not from 1 to 200.\n",
        "\n",
        "def is_prime(number):\n",
        "    \"\"\"\n",
        "    This function checks if a given number is prime.\n",
        "    Returns True if the number is prime, otherwise False.\n",
        "    \"\"\"\n",
        "    if number < 2:\n",
        "        return False  # Numbers less than 2 are not prime\n",
        "    for i in range(2, int(number ** 0.5) + 1):\n",
        "        if number % i == 0:\n",
        "            return False  # Found a divisor, so not prime\n",
        "    return True\n",
        "\n",
        "# Test the function for numbers from 1 to 200\n",
        "print(\"Prime numbers from 1 to 200:\")\n",
        "for num in range(1, 201):\n",
        "    if is_prime(num):\n",
        "        print(num, end=\" \")\n",
        "#Explanation:\n",
        "#Function Definition:\n",
        "#The function is_prime(number) checks if a number is prime.\n",
        "#Prime Check Logic:\n",
        "#Numbers less than 2 are not prime.\n",
        "#Use a loop from 2 to the square root of the number (int(number ** 0.5) + 1) to check if any number divides number evenly.\n",
        "#If any divisor is found, return False. Otherwise, return True.\n",
        "#Testing:\n",
        "#A for loop is used to check all numbers from 1 to 200.\n",
        "#If a number is prime, it is printed."
      ],
      "metadata": {
        "colab": {
          "base_uri": "https://localhost:8080/"
        },
        "id": "53UZUkz67zAg",
        "outputId": "abce149d-e2a9-45ca-ab5b-62baf80dd76b"
      },
      "execution_count": null,
      "outputs": [
        {
          "output_type": "stream",
          "name": "stdout",
          "text": [
            "Prime numbers from 1 to 200:\n",
            "2 3 5 7 11 13 17 19 23 29 31 37 41 43 47 53 59 61 67 71 73 79 83 89 97 101 103 107 109 113 127 131 137 139 149 151 157 163 167 173 179 181 191 193 197 199 "
          ]
        }
      ]
    },
    {
      "cell_type": "code",
      "source": [
        "#5 Create an iterator class in Python that generates the Fibonacci sequence up to a specified number of terms.\n",
        "\n",
        "class FibonacciIterator:\n",
        "    \"\"\"\n",
        "    An iterator class to generate the Fibonacci sequence up to a specified number of terms.\n",
        "    \"\"\"\n",
        "    def __init__(self, num_terms):\n",
        "        self.num_terms = num_terms  # Total terms to generate\n",
        "        self.current = 0           # Current term index\n",
        "        self.a = 0                 # First Fibonacci number\n",
        "        self.b = 1                 # Second Fibonacci number\n",
        "\n",
        "    def __iter__(self):\n",
        "        return self  # The iterator object itself\n",
        "\n",
        "    def __next__(self):\n",
        "        if self.current >= self.num_terms:\n",
        "            raise StopIteration  # Stop the iteration once we reach the limit\n",
        "        if self.current == 0:\n",
        "            self.current += 1\n",
        "            return self.a\n",
        "        elif self.current == 1:\n",
        "            self.current += 1\n",
        "            return self.b\n",
        "        else:\n",
        "            fib = self.a + self.b\n",
        "            self.a, self.b = self.b, fib  # Update for the next iteration\n",
        "            self.current += 1\n",
        "            return fib\n",
        "\n",
        "# Example Usage:\n",
        "num_terms = 10\n",
        "fib_iterator = FibonacciIterator(num_terms)\n",
        "\n",
        "print(f\"Fibonacci sequence up to {num_terms} terms:\")\n",
        "for num in fib_iterator:\n",
        "    print(num, end=\" \")\n",
        "#Explanation:\n",
        "#Class Initialization (__init__):\n",
        "\n",
        "#Accepts num_terms as the number of Fibonacci terms to generate.\n",
        "#Initializes a and b for the first two Fibonacci numbers and a counter current.\n",
        "#Iterator Protocol:\n",
        "\n",
        "#__iter__: Returns the iterator object itself.\n",
        "#__next__: Generates the next Fibonacci number until num_terms is reached. Raises StopIteration when done.\n",
        "#Example Execution:\n",
        "\n",
        "#Create an instance of FibonacciIterator with num_terms = 10.\n",
        "#Iterate over the instance in a for loop to print the sequence."
      ],
      "metadata": {
        "colab": {
          "base_uri": "https://localhost:8080/"
        },
        "id": "i2QIWywF8iK_",
        "outputId": "9c290289-5b2e-41cd-d6da-f19114ac256f"
      },
      "execution_count": null,
      "outputs": [
        {
          "output_type": "stream",
          "name": "stdout",
          "text": [
            "Fibonacci sequence up to 10 terms:\n",
            "0 1 1 2 3 5 8 13 21 34 "
          ]
        }
      ]
    },
    {
      "cell_type": "code",
      "source": [
        "#6 Write a generator function in Python that yields the powers of 2 up to a given exponent.\n",
        "\n",
        "def powers_of_two(max_exponent):\n",
        "    \"\"\"\n",
        "    A generator function that yields powers of 2 up to the given exponent.\n",
        "    \"\"\"\n",
        "    for exponent in range(max_exponent + 1):\n",
        "        yield 2 ** exponent\n",
        "\n",
        "# Example Usage:\n",
        "max_exponent = 5\n",
        "print(f\"Powers of 2 up to 2^{max_exponent}:\")\n",
        "for value in powers_of_two(max_exponent):\n",
        "    print(value, end=\" \")\n"
      ],
      "metadata": {
        "colab": {
          "base_uri": "https://localhost:8080/"
        },
        "id": "MPeadqUf90oV",
        "outputId": "3d2c3f94-055e-4a86-e445-0b5cdeaee799"
      },
      "execution_count": null,
      "outputs": [
        {
          "output_type": "stream",
          "name": "stdout",
          "text": [
            "Powers of 2 up to 2^5:\n",
            "1 2 4 8 16 32 "
          ]
        }
      ]
    },
    {
      "cell_type": "code",
      "source": [
        "#7 Implement a generator function that reads a file line by line and yields each line as a string.\n",
        "example_txt = [\"Line 1\",\"Line 2\",\"Line 3\"]\n",
        "\n",
        "def read_lines(data):\n",
        "    for line in data:\n",
        "        yield line\n",
        "\n",
        "# Example Usage\n",
        "for line in read_lines(example_txt):\n",
        "    print(line)\n"
      ],
      "metadata": {
        "colab": {
          "base_uri": "https://localhost:8080/"
        },
        "id": "pSUg0vXb-cM-",
        "outputId": "86d7460b-a95b-4f8a-a8db-326fd856ccb5"
      },
      "execution_count": null,
      "outputs": [
        {
          "output_type": "stream",
          "name": "stdout",
          "text": [
            "Line 1\n",
            "Line 2\n",
            "Line 3\n"
          ]
        }
      ]
    },
    {
      "cell_type": "code",
      "source": [
        "#8 Use a lambda function in Python to sort a list of tuples based on the second element of each tuple.\n",
        "# Define a list of tuples\n",
        "tuples_list = [(1, 3), (4, 1), (2, 2), (5, 0)]\n",
        "\n",
        "# Sort the list based on the second element of each tuple\n",
        "sorted_list = sorted(tuples_list, key=lambda x: x[1])\n",
        "\n",
        "print(\"Sorted list based on the second element:\", sorted_list)\n"
      ],
      "metadata": {
        "colab": {
          "base_uri": "https://localhost:8080/"
        },
        "id": "ot4zBQ6q5nI3",
        "outputId": "eb9e6fd9-027d-40c4-8ba2-861bcde01e21"
      },
      "execution_count": null,
      "outputs": [
        {
          "output_type": "stream",
          "name": "stdout",
          "text": [
            "Sorted list based on the second element: [(5, 0), (4, 1), (2, 2), (1, 3)]\n"
          ]
        }
      ]
    },
    {
      "cell_type": "code",
      "source": [
        "#9 Write a Python program that uses `map()` to convert a list of temperatures from Celsius to Fahrenheit.\n",
        "# Define a function to convert Celsius to Fahrenheit\n",
        "def celsius_to_fahrenheit(celsius):\n",
        "    return (celsius * 9/5) + 32\n",
        "\n",
        "# List of temperatures in Celsius\n",
        "celsius_temperatures = [0, 20, 30, 40, 100]\n",
        "\n",
        "# Use map() to apply the conversion function to each element in the list\n",
        "fahrenheit_temperatures = list(map(celsius_to_fahrenheit, celsius_temperatures))\n",
        "\n",
        "# Print the converted list\n",
        "print(\"Temperatures in Fahrenheit:\", fahrenheit_temperatures)\n",
        "\n"
      ],
      "metadata": {
        "colab": {
          "base_uri": "https://localhost:8080/"
        },
        "id": "qpeaiUPO5nE5",
        "outputId": "755d8d0a-0091-4172-b3ee-9ab414780ae0"
      },
      "execution_count": null,
      "outputs": [
        {
          "output_type": "stream",
          "name": "stdout",
          "text": [
            "Temperatures in Fahrenheit: [32.0, 68.0, 86.0, 104.0, 212.0]\n"
          ]
        }
      ]
    },
    {
      "cell_type": "code",
      "source": [
        "#10 Create a Python program that uses `filter()` to remove all the vowels from a given string.\n",
        "# Define a function to check if a character is not a vowel\n",
        "def is_not_vowel(char):\n",
        "    return char.lower() not in 'aeiou'\n",
        "\n",
        "# Input string\n",
        "input_string = \"I am a student of PwSkills data analytics.\"\n",
        "\n",
        "# Use filter() to remove vowels\n",
        "result = ''.join(filter(is_not_vowel, input_string))\n",
        "\n",
        "# Print the resulting string\n",
        "print(\"String without vowels:\", result)\n"
      ],
      "metadata": {
        "colab": {
          "base_uri": "https://localhost:8080/"
        },
        "id": "8VkC9h_U5nCU",
        "outputId": "e4c649ab-1f78-4acd-dc39-a7c06facc2a0"
      },
      "execution_count": null,
      "outputs": [
        {
          "output_type": "stream",
          "name": "stdout",
          "text": [
            "String without vowels:  m  stdnt f PwSklls dt nlytcs.\n"
          ]
        }
      ]
    },
    {
      "cell_type": "code",
      "source": [
        "#11 Write a Python program, which returns a list with 2-tuples. Each tuple consists of the order number and the product of the price per item and the quantity. The product should be increased by 10,- € if the value of the order is smaller than 100,00 €.\n",
        "#Write a Python program using lambda and map.\n",
        "#List of orders (order number, Book Title and Author, price per item, quantity)\n",
        "orders = [\n",
        "    (34587, \"Learning Python, Mark Lutz\", 40.95, 4),  # Order 1: Book Title and Author = Learning Python, Mark Lutz ,Price per item = 40.95, Quantity = 4\n",
        "    (98762, \"Programming Python, Mark Lutz\", 56.80, 5),  # Order 2: Book Title and Author = Programming Python, Mark Lutz ,Price per item = 56.80, Quantity = 5\n",
        "    (77226, \"Head First Python, Paul Barry\", 32.95, 3),  # Order 3: Book Title and Author = Head First Python, Paul Barry ,Price per item = 32.95, Quantity = 3\n",
        "    (88112, \"Einfuhrung in Python3, Bernd Klein\", 24.99, 3)  # Order 4: Book Title and Author = Einfuhrung in Python3, Bernd Klein ,Price per item = 24.99, Quantity = 3\n",
        "]\n",
        "\n",
        "# Use map() with a lambda function to calculate the order total\n",
        "result = list(map(lambda order: (\n",
        "    order[0],  # Order number\n",
        "    order[2] * order[3] + (5 if order[2] * order[3] < 100 else 0)  # Total value with the adjustment\n",
        "), orders))\n",
        "\n",
        "# Print the resulting list of 2-tuples\n",
        "print(\"Processed orders:\", result)\n"
      ],
      "metadata": {
        "colab": {
          "base_uri": "https://localhost:8080/"
        },
        "id": "kfS2sYZQ5nAM",
        "outputId": "565d1ba4-f573-4c60-e7ae-e3ee7da142ce"
      },
      "execution_count": null,
      "outputs": [
        {
          "output_type": "stream",
          "name": "stdout",
          "text": [
            "Processed orders: [(34587, 163.8), (98762, 284.0), (77226, 103.85000000000001), (88112, 79.97)]\n"
          ]
        }
      ]
    }
  ]
}